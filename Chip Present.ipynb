{
 "cells": [
  {
   "cell_type": "code",
   "execution_count": 14,
   "metadata": {},
   "outputs": [],
   "source": [
    "%matplotlib widget\n",
    "\n",
    "# Import dependencies\n",
    "import matplotlib.pyplot as plt\n",
    "import numpy as np\n",
    "import pandas as pd"
   ]
  },
  {
   "cell_type": "code",
   "execution_count": 15,
   "metadata": {},
   "outputs": [
    {
     "data": {
      "text/html": [
       "<div>\n",
       "<style scoped>\n",
       "    .dataframe tbody tr th:only-of-type {\n",
       "        vertical-align: middle;\n",
       "    }\n",
       "\n",
       "    .dataframe tbody tr th {\n",
       "        vertical-align: top;\n",
       "    }\n",
       "\n",
       "    .dataframe thead th {\n",
       "        text-align: right;\n",
       "    }\n",
       "</style>\n",
       "<table border=\"1\" class=\"dataframe\">\n",
       "  <thead>\n",
       "    <tr style=\"text-align: right;\">\n",
       "      <th></th>\n",
       "      <th>Distance From Home</th>\n",
       "      <th>Distance From Last Transaction</th>\n",
       "      <th>Ratio to Median Purchase Price</th>\n",
       "      <th>Repeat Retailer</th>\n",
       "      <th>Used Chip</th>\n",
       "      <th>Used Pin Number</th>\n",
       "      <th>Online Order</th>\n",
       "      <th>Fraud</th>\n",
       "    </tr>\n",
       "  </thead>\n",
       "  <tbody>\n",
       "    <tr>\n",
       "      <th>0</th>\n",
       "      <td>57.88</td>\n",
       "      <td>0.31</td>\n",
       "      <td>1.95</td>\n",
       "      <td>1</td>\n",
       "      <td>Chip</td>\n",
       "      <td>No Pin</td>\n",
       "      <td>0</td>\n",
       "      <td>Not Fraud</td>\n",
       "    </tr>\n",
       "    <tr>\n",
       "      <th>1</th>\n",
       "      <td>10.83</td>\n",
       "      <td>0.18</td>\n",
       "      <td>1.29</td>\n",
       "      <td>1</td>\n",
       "      <td>No Chip</td>\n",
       "      <td>No Pin</td>\n",
       "      <td>0</td>\n",
       "      <td>Not Fraud</td>\n",
       "    </tr>\n",
       "    <tr>\n",
       "      <th>2</th>\n",
       "      <td>5.09</td>\n",
       "      <td>0.81</td>\n",
       "      <td>0.43</td>\n",
       "      <td>1</td>\n",
       "      <td>No Chip</td>\n",
       "      <td>No Pin</td>\n",
       "      <td>1</td>\n",
       "      <td>Not Fraud</td>\n",
       "    </tr>\n",
       "    <tr>\n",
       "      <th>3</th>\n",
       "      <td>2.25</td>\n",
       "      <td>5.60</td>\n",
       "      <td>0.36</td>\n",
       "      <td>1</td>\n",
       "      <td>Chip</td>\n",
       "      <td>No Pin</td>\n",
       "      <td>1</td>\n",
       "      <td>Not Fraud</td>\n",
       "    </tr>\n",
       "    <tr>\n",
       "      <th>4</th>\n",
       "      <td>44.19</td>\n",
       "      <td>0.57</td>\n",
       "      <td>2.22</td>\n",
       "      <td>1</td>\n",
       "      <td>Chip</td>\n",
       "      <td>No Pin</td>\n",
       "      <td>1</td>\n",
       "      <td>Not Fraud</td>\n",
       "    </tr>\n",
       "  </tbody>\n",
       "</table>\n",
       "</div>"
      ],
      "text/plain": [
       "   Distance From Home  Distance From Last Transaction  \\\n",
       "0               57.88                            0.31   \n",
       "1               10.83                            0.18   \n",
       "2                5.09                            0.81   \n",
       "3                2.25                            5.60   \n",
       "4               44.19                            0.57   \n",
       "\n",
       "   Ratio to Median Purchase Price  Repeat Retailer Used Chip Used Pin Number  \\\n",
       "0                            1.95                1      Chip          No Pin   \n",
       "1                            1.29                1   No Chip          No Pin   \n",
       "2                            0.43                1   No Chip          No Pin   \n",
       "3                            0.36                1      Chip          No Pin   \n",
       "4                            2.22                1      Chip          No Pin   \n",
       "\n",
       "   Online Order      Fraud  \n",
       "0             0  Not Fraud  \n",
       "1             0  Not Fraud  \n",
       "2             1  Not Fraud  \n",
       "3             1  Not Fraud  \n",
       "4             1  Not Fraud  "
      ]
     },
     "execution_count": 15,
     "metadata": {},
     "output_type": "execute_result"
    }
   ],
   "source": [
    "# Load in csv and replace column integers\n",
    "card_df = pd.read_csv(\"main\\Resources\\cleaned_card_data.csv\")\n",
    "card_df['Used Chip'].replace(1, 'Chip', inplace=True)\n",
    "card_df['Used Chip'].replace(0, 'No Chip', inplace=True)\n",
    "card_df['Fraud'].replace(1, 'Fraud', inplace=True)\n",
    "card_df['Fraud'].replace(0, 'Not Fraud', inplace=True)\n",
    "card_df['Used Pin Number'].replace(1, 'Pin', inplace=True)\n",
    "card_df['Used Pin Number'].replace(0, 'No Pin', inplace=True)\n",
    "card_df.head()"
   ]
  },
  {
   "cell_type": "code",
   "execution_count": 16,
   "metadata": {},
   "outputs": [
    {
     "data": {
      "text/html": [
       "<div>\n",
       "<style scoped>\n",
       "    .dataframe tbody tr th:only-of-type {\n",
       "        vertical-align: middle;\n",
       "    }\n",
       "\n",
       "    .dataframe tbody tr th {\n",
       "        vertical-align: top;\n",
       "    }\n",
       "\n",
       "    .dataframe thead th {\n",
       "        text-align: right;\n",
       "    }\n",
       "</style>\n",
       "<table border=\"1\" class=\"dataframe\">\n",
       "  <thead>\n",
       "    <tr style=\"text-align: right;\">\n",
       "      <th></th>\n",
       "      <th>Used Chip</th>\n",
       "    </tr>\n",
       "    <tr>\n",
       "      <th>Fraud</th>\n",
       "      <th></th>\n",
       "    </tr>\n",
       "  </thead>\n",
       "  <tbody>\n",
       "    <tr>\n",
       "      <th>Not Fraud</th>\n",
       "      <td>Chip</td>\n",
       "    </tr>\n",
       "    <tr>\n",
       "      <th>Not Fraud</th>\n",
       "      <td>No Chip</td>\n",
       "    </tr>\n",
       "    <tr>\n",
       "      <th>Not Fraud</th>\n",
       "      <td>No Chip</td>\n",
       "    </tr>\n",
       "    <tr>\n",
       "      <th>Not Fraud</th>\n",
       "      <td>Chip</td>\n",
       "    </tr>\n",
       "    <tr>\n",
       "      <th>Not Fraud</th>\n",
       "      <td>Chip</td>\n",
       "    </tr>\n",
       "  </tbody>\n",
       "</table>\n",
       "</div>"
      ],
      "text/plain": [
       "          Used Chip\n",
       "Fraud              \n",
       "Not Fraud      Chip\n",
       "Not Fraud   No Chip\n",
       "Not Fraud   No Chip\n",
       "Not Fraud      Chip\n",
       "Not Fraud      Chip"
      ]
     },
     "execution_count": 16,
     "metadata": {},
     "output_type": "execute_result"
    }
   ],
   "source": [
    "# Create Used Chip dataframe\n",
    "used_chip_df = card_df[[\"Fraud\", \"Used Chip\"]].set_index(\"Fraud\")\n",
    "used_chip_df.head()"
   ]
  },
  {
   "cell_type": "code",
   "execution_count": 17,
   "metadata": {},
   "outputs": [
    {
     "data": {
      "text/html": [
       "<div>\n",
       "<style scoped>\n",
       "    .dataframe tbody tr th:only-of-type {\n",
       "        vertical-align: middle;\n",
       "    }\n",
       "\n",
       "    .dataframe tbody tr th {\n",
       "        vertical-align: top;\n",
       "    }\n",
       "\n",
       "    .dataframe thead th {\n",
       "        text-align: right;\n",
       "    }\n",
       "</style>\n",
       "<table border=\"1\" class=\"dataframe\">\n",
       "  <thead>\n",
       "    <tr style=\"text-align: right;\">\n",
       "      <th></th>\n",
       "      <th>Used Chip</th>\n",
       "    </tr>\n",
       "    <tr>\n",
       "      <th>Fraud</th>\n",
       "      <th></th>\n",
       "    </tr>\n",
       "  </thead>\n",
       "  <tbody>\n",
       "    <tr>\n",
       "      <th>Not Fraud</th>\n",
       "      <td>Chip</td>\n",
       "    </tr>\n",
       "    <tr>\n",
       "      <th>Not Fraud</th>\n",
       "      <td>Chip</td>\n",
       "    </tr>\n",
       "    <tr>\n",
       "      <th>Not Fraud</th>\n",
       "      <td>Chip</td>\n",
       "    </tr>\n",
       "    <tr>\n",
       "      <th>Not Fraud</th>\n",
       "      <td>Chip</td>\n",
       "    </tr>\n",
       "    <tr>\n",
       "      <th>Not Fraud</th>\n",
       "      <td>Chip</td>\n",
       "    </tr>\n",
       "  </tbody>\n",
       "</table>\n",
       "</div>"
      ],
      "text/plain": [
       "          Used Chip\n",
       "Fraud              \n",
       "Not Fraud      Chip\n",
       "Not Fraud      Chip\n",
       "Not Fraud      Chip\n",
       "Not Fraud      Chip\n",
       "Not Fraud      Chip"
      ]
     },
     "execution_count": 17,
     "metadata": {},
     "output_type": "execute_result"
    }
   ],
   "source": [
    "fraud_chip_df = used_chip_df.loc[(used_chip_df[\"Used Chip\"] == \"Chip\"), :]\n",
    "fraud_chip_df.head()"
   ]
  },
  {
   "cell_type": "code",
   "execution_count": 18,
   "metadata": {},
   "outputs": [
    {
     "data": {
      "text/plain": [
       "Fraud      Used Chip\n",
       "Fraud      Chip          22410\n",
       "Not Fraud  Chip         327989\n",
       "Name: count, dtype: int64"
      ]
     },
     "execution_count": 18,
     "metadata": {},
     "output_type": "execute_result"
    }
   ],
   "source": [
    "grouped_chip_df = fraud_chip_df.groupby(['Fraud', 'Used Chip']).value_counts()\n",
    "grouped_chip_df.head()"
   ]
  },
  {
   "cell_type": "code",
   "execution_count": 19,
   "metadata": {},
   "outputs": [
    {
     "data": {
      "application/vnd.jupyter.widget-view+json": {
       "model_id": "50480997e70b4bb7bac00ac6a844f724",
       "version_major": 2,
       "version_minor": 0
      },
      "image/png": "[encoded data removed]",
      "text/html": [
       "\n",
       "            <div style=\"display: inline-block;\">\n",
       "                <div class=\"jupyter-widgets widget-label\" style=\"text-align: center;\">\n",
       "                    Figure 1\n",
       "                </div>\n",
       "                <img src='data:image/png;base64,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' width=500.0/>\n",
       "            </div>\n",
       "        "
      ],
      "text/plain": [
       "Canvas(toolbar=Toolbar(toolitems=[('Home', 'Reset original view', 'home', 'home'), ('Back', 'Back to previous …"
      ]
     },
     "metadata": {},
     "output_type": "display_data"
    }
   ],
   "source": [
    "chip_use_plot = grouped_chip_df.plot(kind=\"bar\", figsize=(5,5))\n",
    "plt.title(\"Card Present - Chip Used\")\n",
    "plt.ylabel(\"Transactions\")\n",
    "plt.xlabel(\"Chip Use\", rotation=0)\n",
    "plt.show()\n",
    "plt.tight_layout()"
   ]
  },
  {
   "cell_type": "code",
   "execution_count": 20,
   "metadata": {},
   "outputs": [
    {
     "ename": "FileNotFoundError",
     "evalue": "[Errno 2] No such file or directory: '../Resources/Images/Chip.png'",
     "output_type": "error",
     "traceback": [
      "\u001b[1;31m---------------------------------------------------------------------------\u001b[0m",
      "\u001b[1;31mFileNotFoundError\u001b[0m                         Traceback (most recent call last)",
      "Cell \u001b[1;32mIn[20], line 2\u001b[0m\n\u001b[0;32m      1\u001b[0m \u001b[38;5;66;03m# Save an image of the chart and print it to the screen\u001b[39;00m\n\u001b[1;32m----> 2\u001b[0m \u001b[43mplt\u001b[49m\u001b[38;5;241;43m.\u001b[39;49m\u001b[43msavefig\u001b[49m\u001b[43m(\u001b[49m\u001b[38;5;124;43m\"\u001b[39;49m\u001b[38;5;124;43m../Resources/Images/Chip.png\u001b[39;49m\u001b[38;5;124;43m\"\u001b[39;49m\u001b[43m)\u001b[49m\n\u001b[0;32m      3\u001b[0m plt\u001b[38;5;241m.\u001b[39mshow()\n",
      "File \u001b[1;32mc:\\Users\\mdmoo\\anaconda3\\envs\\dev\\lib\\site-packages\\matplotlib\\pyplot.py:1134\u001b[0m, in \u001b[0;36msavefig\u001b[1;34m(*args, **kwargs)\u001b[0m\n\u001b[0;32m   1131\u001b[0m fig \u001b[38;5;241m=\u001b[39m gcf()\n\u001b[0;32m   1132\u001b[0m \u001b[38;5;66;03m# savefig default implementation has no return, so mypy is unhappy\u001b[39;00m\n\u001b[0;32m   1133\u001b[0m \u001b[38;5;66;03m# presumably this is here because subclasses can return?\u001b[39;00m\n\u001b[1;32m-> 1134\u001b[0m res \u001b[38;5;241m=\u001b[39m fig\u001b[38;5;241m.\u001b[39msavefig(\u001b[38;5;241m*\u001b[39margs, \u001b[38;5;241m*\u001b[39m\u001b[38;5;241m*\u001b[39mkwargs)  \u001b[38;5;66;03m# type: ignore[func-returns-value]\u001b[39;00m\n\u001b[0;32m   1135\u001b[0m fig\u001b[38;5;241m.\u001b[39mcanvas\u001b[38;5;241m.\u001b[39mdraw_idle()  \u001b[38;5;66;03m# Need this if 'transparent=True', to reset colors.\u001b[39;00m\n\u001b[0;32m   1136\u001b[0m \u001b[38;5;28;01mreturn\u001b[39;00m res\n",
      "File \u001b[1;32mc:\\Users\\mdmoo\\anaconda3\\envs\\dev\\lib\\site-packages\\matplotlib\\figure.py:3390\u001b[0m, in \u001b[0;36mFigure.savefig\u001b[1;34m(self, fname, transparent, **kwargs)\u001b[0m\n\u001b[0;32m   3388\u001b[0m     \u001b[38;5;28;01mfor\u001b[39;00m ax \u001b[38;5;129;01min\u001b[39;00m \u001b[38;5;28mself\u001b[39m\u001b[38;5;241m.\u001b[39maxes:\n\u001b[0;32m   3389\u001b[0m         _recursively_make_axes_transparent(stack, ax)\n\u001b[1;32m-> 3390\u001b[0m \u001b[38;5;28mself\u001b[39m\u001b[38;5;241m.\u001b[39mcanvas\u001b[38;5;241m.\u001b[39mprint_figure(fname, \u001b[38;5;241m*\u001b[39m\u001b[38;5;241m*\u001b[39mkwargs)\n",
      "File \u001b[1;32mc:\\Users\\mdmoo\\anaconda3\\envs\\dev\\lib\\site-packages\\matplotlib\\backend_bases.py:2193\u001b[0m, in \u001b[0;36mFigureCanvasBase.print_figure\u001b[1;34m(self, filename, dpi, facecolor, edgecolor, orientation, format, bbox_inches, pad_inches, bbox_extra_artists, backend, **kwargs)\u001b[0m\n\u001b[0;32m   2189\u001b[0m \u001b[38;5;28;01mtry\u001b[39;00m:\n\u001b[0;32m   2190\u001b[0m     \u001b[38;5;66;03m# _get_renderer may change the figure dpi (as vector formats\u001b[39;00m\n\u001b[0;32m   2191\u001b[0m     \u001b[38;5;66;03m# force the figure dpi to 72), so we need to set it again here.\u001b[39;00m\n\u001b[0;32m   2192\u001b[0m     \u001b[38;5;28;01mwith\u001b[39;00m cbook\u001b[38;5;241m.\u001b[39m_setattr_cm(\u001b[38;5;28mself\u001b[39m\u001b[38;5;241m.\u001b[39mfigure, dpi\u001b[38;5;241m=\u001b[39mdpi):\n\u001b[1;32m-> 2193\u001b[0m         result \u001b[38;5;241m=\u001b[39m print_method(\n\u001b[0;32m   2194\u001b[0m             filename,\n\u001b[0;32m   2195\u001b[0m             facecolor\u001b[38;5;241m=\u001b[39mfacecolor,\n\u001b[0;32m   2196\u001b[0m             edgecolor\u001b[38;5;241m=\u001b[39medgecolor,\n\u001b[0;32m   2197\u001b[0m             orientation\u001b[38;5;241m=\u001b[39morientation,\n\u001b[0;32m   2198\u001b[0m             bbox_inches_restore\u001b[38;5;241m=\u001b[39m_bbox_inches_restore,\n\u001b[0;32m   2199\u001b[0m             \u001b[38;5;241m*\u001b[39m\u001b[38;5;241m*\u001b[39mkwargs)\n\u001b[0;32m   2200\u001b[0m \u001b[38;5;28;01mfinally\u001b[39;00m:\n\u001b[0;32m   2201\u001b[0m     \u001b[38;5;28;01mif\u001b[39;00m bbox_inches \u001b[38;5;129;01mand\u001b[39;00m restore_bbox:\n",
      "File \u001b[1;32mc:\\Users\\mdmoo\\anaconda3\\envs\\dev\\lib\\site-packages\\matplotlib\\backend_bases.py:2043\u001b[0m, in \u001b[0;36mFigureCanvasBase._switch_canvas_and_return_print_method.<locals>.<lambda>\u001b[1;34m(*args, **kwargs)\u001b[0m\n\u001b[0;32m   2039\u001b[0m     optional_kws \u001b[38;5;241m=\u001b[39m {  \u001b[38;5;66;03m# Passed by print_figure for other renderers.\u001b[39;00m\n\u001b[0;32m   2040\u001b[0m         \u001b[38;5;124m\"\u001b[39m\u001b[38;5;124mdpi\u001b[39m\u001b[38;5;124m\"\u001b[39m, \u001b[38;5;124m\"\u001b[39m\u001b[38;5;124mfacecolor\u001b[39m\u001b[38;5;124m\"\u001b[39m, \u001b[38;5;124m\"\u001b[39m\u001b[38;5;124medgecolor\u001b[39m\u001b[38;5;124m\"\u001b[39m, \u001b[38;5;124m\"\u001b[39m\u001b[38;5;124morientation\u001b[39m\u001b[38;5;124m\"\u001b[39m,\n\u001b[0;32m   2041\u001b[0m         \u001b[38;5;124m\"\u001b[39m\u001b[38;5;124mbbox_inches_restore\u001b[39m\u001b[38;5;124m\"\u001b[39m}\n\u001b[0;32m   2042\u001b[0m     skip \u001b[38;5;241m=\u001b[39m optional_kws \u001b[38;5;241m-\u001b[39m {\u001b[38;5;241m*\u001b[39minspect\u001b[38;5;241m.\u001b[39msignature(meth)\u001b[38;5;241m.\u001b[39mparameters}\n\u001b[1;32m-> 2043\u001b[0m     print_method \u001b[38;5;241m=\u001b[39m functools\u001b[38;5;241m.\u001b[39mwraps(meth)(\u001b[38;5;28;01mlambda\u001b[39;00m \u001b[38;5;241m*\u001b[39margs, \u001b[38;5;241m*\u001b[39m\u001b[38;5;241m*\u001b[39mkwargs: meth(\n\u001b[0;32m   2044\u001b[0m         \u001b[38;5;241m*\u001b[39margs, \u001b[38;5;241m*\u001b[39m\u001b[38;5;241m*\u001b[39m{k: v \u001b[38;5;28;01mfor\u001b[39;00m k, v \u001b[38;5;129;01min\u001b[39;00m kwargs\u001b[38;5;241m.\u001b[39mitems() \u001b[38;5;28;01mif\u001b[39;00m k \u001b[38;5;129;01mnot\u001b[39;00m \u001b[38;5;129;01min\u001b[39;00m skip}))\n\u001b[0;32m   2045\u001b[0m \u001b[38;5;28;01melse\u001b[39;00m:  \u001b[38;5;66;03m# Let third-parties do as they see fit.\u001b[39;00m\n\u001b[0;32m   2046\u001b[0m     print_method \u001b[38;5;241m=\u001b[39m meth\n",
      "File \u001b[1;32mc:\\Users\\mdmoo\\anaconda3\\envs\\dev\\lib\\site-packages\\matplotlib\\backends\\backend_agg.py:497\u001b[0m, in \u001b[0;36mFigureCanvasAgg.print_png\u001b[1;34m(self, filename_or_obj, metadata, pil_kwargs)\u001b[0m\n\u001b[0;32m    450\u001b[0m \u001b[38;5;28;01mdef\u001b[39;00m \u001b[38;5;21mprint_png\u001b[39m(\u001b[38;5;28mself\u001b[39m, filename_or_obj, \u001b[38;5;241m*\u001b[39m, metadata\u001b[38;5;241m=\u001b[39m\u001b[38;5;28;01mNone\u001b[39;00m, pil_kwargs\u001b[38;5;241m=\u001b[39m\u001b[38;5;28;01mNone\u001b[39;00m):\n\u001b[0;32m    451\u001b[0m \u001b[38;5;250m    \u001b[39m\u001b[38;5;124;03m\"\"\"\u001b[39;00m\n\u001b[0;32m    452\u001b[0m \u001b[38;5;124;03m    Write the figure to a PNG file.\u001b[39;00m\n\u001b[0;32m    453\u001b[0m \n\u001b[1;32m   (...)\u001b[0m\n\u001b[0;32m    495\u001b[0m \u001b[38;5;124;03m        *metadata*, including the default 'Software' key.\u001b[39;00m\n\u001b[0;32m    496\u001b[0m \u001b[38;5;124;03m    \"\"\"\u001b[39;00m\n\u001b[1;32m--> 497\u001b[0m     \u001b[38;5;28;43mself\u001b[39;49m\u001b[38;5;241;43m.\u001b[39;49m\u001b[43m_print_pil\u001b[49m\u001b[43m(\u001b[49m\u001b[43mfilename_or_obj\u001b[49m\u001b[43m,\u001b[49m\u001b[43m \u001b[49m\u001b[38;5;124;43m\"\u001b[39;49m\u001b[38;5;124;43mpng\u001b[39;49m\u001b[38;5;124;43m\"\u001b[39;49m\u001b[43m,\u001b[49m\u001b[43m \u001b[49m\u001b[43mpil_kwargs\u001b[49m\u001b[43m,\u001b[49m\u001b[43m \u001b[49m\u001b[43mmetadata\u001b[49m\u001b[43m)\u001b[49m\n",
      "File \u001b[1;32mc:\\Users\\mdmoo\\anaconda3\\envs\\dev\\lib\\site-packages\\matplotlib\\backends\\backend_agg.py:446\u001b[0m, in \u001b[0;36mFigureCanvasAgg._print_pil\u001b[1;34m(self, filename_or_obj, fmt, pil_kwargs, metadata)\u001b[0m\n\u001b[0;32m    441\u001b[0m \u001b[38;5;250m\u001b[39m\u001b[38;5;124;03m\"\"\"\u001b[39;00m\n\u001b[0;32m    442\u001b[0m \u001b[38;5;124;03mDraw the canvas, then save it using `.image.imsave` (to which\u001b[39;00m\n\u001b[0;32m    443\u001b[0m \u001b[38;5;124;03m*pil_kwargs* and *metadata* are forwarded).\u001b[39;00m\n\u001b[0;32m    444\u001b[0m \u001b[38;5;124;03m\"\"\"\u001b[39;00m\n\u001b[0;32m    445\u001b[0m FigureCanvasAgg\u001b[38;5;241m.\u001b[39mdraw(\u001b[38;5;28mself\u001b[39m)\n\u001b[1;32m--> 446\u001b[0m \u001b[43mmpl\u001b[49m\u001b[38;5;241;43m.\u001b[39;49m\u001b[43mimage\u001b[49m\u001b[38;5;241;43m.\u001b[39;49m\u001b[43mimsave\u001b[49m\u001b[43m(\u001b[49m\n\u001b[0;32m    447\u001b[0m \u001b[43m    \u001b[49m\u001b[43mfilename_or_obj\u001b[49m\u001b[43m,\u001b[49m\u001b[43m \u001b[49m\u001b[38;5;28;43mself\u001b[39;49m\u001b[38;5;241;43m.\u001b[39;49m\u001b[43mbuffer_rgba\u001b[49m\u001b[43m(\u001b[49m\u001b[43m)\u001b[49m\u001b[43m,\u001b[49m\u001b[43m \u001b[49m\u001b[38;5;28;43mformat\u001b[39;49m\u001b[38;5;241;43m=\u001b[39;49m\u001b[43mfmt\u001b[49m\u001b[43m,\u001b[49m\u001b[43m \u001b[49m\u001b[43morigin\u001b[49m\u001b[38;5;241;43m=\u001b[39;49m\u001b[38;5;124;43m\"\u001b[39;49m\u001b[38;5;124;43mupper\u001b[39;49m\u001b[38;5;124;43m\"\u001b[39;49m\u001b[43m,\u001b[49m\n\u001b[0;32m    448\u001b[0m \u001b[43m    \u001b[49m\u001b[43mdpi\u001b[49m\u001b[38;5;241;43m=\u001b[39;49m\u001b[38;5;28;43mself\u001b[39;49m\u001b[38;5;241;43m.\u001b[39;49m\u001b[43mfigure\u001b[49m\u001b[38;5;241;43m.\u001b[39;49m\u001b[43mdpi\u001b[49m\u001b[43m,\u001b[49m\u001b[43m \u001b[49m\u001b[43mmetadata\u001b[49m\u001b[38;5;241;43m=\u001b[39;49m\u001b[43mmetadata\u001b[49m\u001b[43m,\u001b[49m\u001b[43m \u001b[49m\u001b[43mpil_kwargs\u001b[49m\u001b[38;5;241;43m=\u001b[39;49m\u001b[43mpil_kwargs\u001b[49m\u001b[43m)\u001b[49m\n",
      "File \u001b[1;32mc:\\Users\\mdmoo\\anaconda3\\envs\\dev\\lib\\site-packages\\matplotlib\\image.py:1656\u001b[0m, in \u001b[0;36mimsave\u001b[1;34m(fname, arr, vmin, vmax, cmap, format, origin, dpi, metadata, pil_kwargs)\u001b[0m\n\u001b[0;32m   1654\u001b[0m pil_kwargs\u001b[38;5;241m.\u001b[39msetdefault(\u001b[38;5;124m\"\u001b[39m\u001b[38;5;124mformat\u001b[39m\u001b[38;5;124m\"\u001b[39m, \u001b[38;5;28mformat\u001b[39m)\n\u001b[0;32m   1655\u001b[0m pil_kwargs\u001b[38;5;241m.\u001b[39msetdefault(\u001b[38;5;124m\"\u001b[39m\u001b[38;5;124mdpi\u001b[39m\u001b[38;5;124m\"\u001b[39m, (dpi, dpi))\n\u001b[1;32m-> 1656\u001b[0m image\u001b[38;5;241m.\u001b[39msave(fname, \u001b[38;5;241m*\u001b[39m\u001b[38;5;241m*\u001b[39mpil_kwargs)\n",
      "File \u001b[1;32mc:\\Users\\mdmoo\\anaconda3\\envs\\dev\\lib\\site-packages\\PIL\\Image.py:2436\u001b[0m, in \u001b[0;36mImage.save\u001b[1;34m(self, fp, format, **params)\u001b[0m\n\u001b[0;32m   2434\u001b[0m         fp \u001b[38;5;241m=\u001b[39m builtins\u001b[38;5;241m.\u001b[39mopen(filename, \u001b[38;5;124m\"\u001b[39m\u001b[38;5;124mr+b\u001b[39m\u001b[38;5;124m\"\u001b[39m)\n\u001b[0;32m   2435\u001b[0m     \u001b[38;5;28;01melse\u001b[39;00m:\n\u001b[1;32m-> 2436\u001b[0m         fp \u001b[38;5;241m=\u001b[39m \u001b[43mbuiltins\u001b[49m\u001b[38;5;241;43m.\u001b[39;49m\u001b[43mopen\u001b[49m\u001b[43m(\u001b[49m\u001b[43mfilename\u001b[49m\u001b[43m,\u001b[49m\u001b[43m \u001b[49m\u001b[38;5;124;43m\"\u001b[39;49m\u001b[38;5;124;43mw+b\u001b[39;49m\u001b[38;5;124;43m\"\u001b[39;49m\u001b[43m)\u001b[49m\n\u001b[0;32m   2438\u001b[0m \u001b[38;5;28;01mtry\u001b[39;00m:\n\u001b[0;32m   2439\u001b[0m     save_handler(\u001b[38;5;28mself\u001b[39m, fp, filename)\n",
      "\u001b[1;31mFileNotFoundError\u001b[0m: [Errno 2] No such file or directory: '../Resources/Images/Chip.png'"
     ]
    }
   ],
   "source": [
    "# Save an image of the chart and print it to the screen\n",
    "plt.savefig(\"../Resources/Images/Chip.png\")\n",
    "plt.show()"
   ]
  }
 ],
 "metadata": {
  "kernelspec": {
   "display_name": "dev",
   "language": "python",
   "name": "python3"
  },
  "language_info": {
   "codemirror_mode": {
    "name": "ipython",
    "version": 3
   },
   "file_extension": ".py",
   "mimetype": "text/x-python",
   "name": "python",
   "nbconvert_exporter": "python",
   "pygments_lexer": "ipython3",
   "version": "3.10.14"
  }
 },
 "nbformat": 4,
 "nbformat_minor": 2
}

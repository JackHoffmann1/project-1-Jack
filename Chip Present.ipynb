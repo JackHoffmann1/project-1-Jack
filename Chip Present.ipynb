{
 "cells": [
  {
   "cell_type": "code",
   "execution_count": 1,
   "metadata": {},
   "outputs": [],
   "source": [
    "%matplotlib widget\n",
    "\n",
    "# Import dependencies\n",
    "import matplotlib.pyplot as plt\n",
    "import numpy as np\n",
    "import pandas as pd"
   ]
  },
  {
   "cell_type": "code",
   "execution_count": 2,
   "metadata": {},
   "outputs": [
    {
     "data": {
      "text/html": [
       "<div>\n",
       "<style scoped>\n",
       "    .dataframe tbody tr th:only-of-type {\n",
       "        vertical-align: middle;\n",
       "    }\n",
       "\n",
       "    .dataframe tbody tr th {\n",
       "        vertical-align: top;\n",
       "    }\n",
       "\n",
       "    .dataframe thead th {\n",
       "        text-align: right;\n",
       "    }\n",
       "</style>\n",
       "<table border=\"1\" class=\"dataframe\">\n",
       "  <thead>\n",
       "    <tr style=\"text-align: right;\">\n",
       "      <th></th>\n",
       "      <th>Distance From Home</th>\n",
       "      <th>Distance From Last Transaction</th>\n",
       "      <th>Ratio to Median Purchase Price</th>\n",
       "      <th>Repeat Retailer</th>\n",
       "      <th>Used Chip</th>\n",
       "      <th>Used Pin Number</th>\n",
       "      <th>Online Order</th>\n",
       "      <th>Fraud</th>\n",
       "    </tr>\n",
       "  </thead>\n",
       "  <tbody>\n",
       "    <tr>\n",
       "      <th>0</th>\n",
       "      <td>57.88</td>\n",
       "      <td>0.31</td>\n",
       "      <td>1.95</td>\n",
       "      <td>1</td>\n",
       "      <td>Chip</td>\n",
       "      <td>No Pin</td>\n",
       "      <td>0</td>\n",
       "      <td>Not Fraud</td>\n",
       "    </tr>\n",
       "    <tr>\n",
       "      <th>1</th>\n",
       "      <td>10.83</td>\n",
       "      <td>0.18</td>\n",
       "      <td>1.29</td>\n",
       "      <td>1</td>\n",
       "      <td>No Chip</td>\n",
       "      <td>No Pin</td>\n",
       "      <td>0</td>\n",
       "      <td>Not Fraud</td>\n",
       "    </tr>\n",
       "    <tr>\n",
       "      <th>2</th>\n",
       "      <td>5.09</td>\n",
       "      <td>0.81</td>\n",
       "      <td>0.43</td>\n",
       "      <td>1</td>\n",
       "      <td>No Chip</td>\n",
       "      <td>No Pin</td>\n",
       "      <td>1</td>\n",
       "      <td>Not Fraud</td>\n",
       "    </tr>\n",
       "    <tr>\n",
       "      <th>3</th>\n",
       "      <td>2.25</td>\n",
       "      <td>5.60</td>\n",
       "      <td>0.36</td>\n",
       "      <td>1</td>\n",
       "      <td>Chip</td>\n",
       "      <td>No Pin</td>\n",
       "      <td>1</td>\n",
       "      <td>Not Fraud</td>\n",
       "    </tr>\n",
       "    <tr>\n",
       "      <th>4</th>\n",
       "      <td>44.19</td>\n",
       "      <td>0.57</td>\n",
       "      <td>2.22</td>\n",
       "      <td>1</td>\n",
       "      <td>Chip</td>\n",
       "      <td>No Pin</td>\n",
       "      <td>1</td>\n",
       "      <td>Not Fraud</td>\n",
       "    </tr>\n",
       "  </tbody>\n",
       "</table>\n",
       "</div>"
      ],
      "text/plain": [
       "   Distance From Home  Distance From Last Transaction  \\\n",
       "0               57.88                            0.31   \n",
       "1               10.83                            0.18   \n",
       "2                5.09                            0.81   \n",
       "3                2.25                            5.60   \n",
       "4               44.19                            0.57   \n",
       "\n",
       "   Ratio to Median Purchase Price  Repeat Retailer Used Chip Used Pin Number  \\\n",
       "0                            1.95                1      Chip          No Pin   \n",
       "1                            1.29                1   No Chip          No Pin   \n",
       "2                            0.43                1   No Chip          No Pin   \n",
       "3                            0.36                1      Chip          No Pin   \n",
       "4                            2.22                1      Chip          No Pin   \n",
       "\n",
       "   Online Order      Fraud  \n",
       "0             0  Not Fraud  \n",
       "1             0  Not Fraud  \n",
       "2             1  Not Fraud  \n",
       "3             1  Not Fraud  \n",
       "4             1  Not Fraud  "
      ]
     },
     "execution_count": 2,
     "metadata": {},
     "output_type": "execute_result"
    }
   ],
   "source": [
    "# Load in csv and replace column integers\n",
    "card_df = pd.read_csv(\"main\\Resources\\cleaned_card_data.csv\")\n",
    "card_df['Used Chip'].replace(1, 'Chip', inplace=True)\n",
    "card_df['Used Chip'].replace(0, 'No Chip', inplace=True)\n",
    "card_df['Fraud'].replace(1, 'Fraud', inplace=True)\n",
    "card_df['Fraud'].replace(0, 'Not Fraud', inplace=True)\n",
    "card_df['Used Pin Number'].replace(1, 'Pin', inplace=True)\n",
    "card_df['Used Pin Number'].replace(0, 'No Pin', inplace=True)\n",
    "card_df.head()"
   ]
  },
  {
   "cell_type": "code",
   "execution_count": 3,
   "metadata": {},
   "outputs": [
    {
     "data": {
      "text/html": [
       "<div>\n",
       "<style scoped>\n",
       "    .dataframe tbody tr th:only-of-type {\n",
       "        vertical-align: middle;\n",
       "    }\n",
       "\n",
       "    .dataframe tbody tr th {\n",
       "        vertical-align: top;\n",
       "    }\n",
       "\n",
       "    .dataframe thead th {\n",
       "        text-align: right;\n",
       "    }\n",
       "</style>\n",
       "<table border=\"1\" class=\"dataframe\">\n",
       "  <thead>\n",
       "    <tr style=\"text-align: right;\">\n",
       "      <th></th>\n",
       "      <th>Used Chip</th>\n",
       "    </tr>\n",
       "    <tr>\n",
       "      <th>Fraud</th>\n",
       "      <th></th>\n",
       "    </tr>\n",
       "  </thead>\n",
       "  <tbody>\n",
       "    <tr>\n",
       "      <th>Not Fraud</th>\n",
       "      <td>Chip</td>\n",
       "    </tr>\n",
       "    <tr>\n",
       "      <th>Not Fraud</th>\n",
       "      <td>No Chip</td>\n",
       "    </tr>\n",
       "    <tr>\n",
       "      <th>Not Fraud</th>\n",
       "      <td>No Chip</td>\n",
       "    </tr>\n",
       "    <tr>\n",
       "      <th>Not Fraud</th>\n",
       "      <td>Chip</td>\n",
       "    </tr>\n",
       "    <tr>\n",
       "      <th>Not Fraud</th>\n",
       "      <td>Chip</td>\n",
       "    </tr>\n",
       "  </tbody>\n",
       "</table>\n",
       "</div>"
      ],
      "text/plain": [
       "          Used Chip\n",
       "Fraud              \n",
       "Not Fraud      Chip\n",
       "Not Fraud   No Chip\n",
       "Not Fraud   No Chip\n",
       "Not Fraud      Chip\n",
       "Not Fraud      Chip"
      ]
     },
     "execution_count": 3,
     "metadata": {},
     "output_type": "execute_result"
    }
   ],
   "source": [
    "# Create Used Chip dataframe\n",
    "used_chip_df = card_df[[\"Fraud\", \"Used Chip\"]].set_index(\"Fraud\")\n",
    "used_chip_df.head()"
   ]
  },
  {
   "cell_type": "code",
   "execution_count": 4,
   "metadata": {},
   "outputs": [
    {
     "data": {
      "text/html": [
       "<div>\n",
       "<style scoped>\n",
       "    .dataframe tbody tr th:only-of-type {\n",
       "        vertical-align: middle;\n",
       "    }\n",
       "\n",
       "    .dataframe tbody tr th {\n",
       "        vertical-align: top;\n",
       "    }\n",
       "\n",
       "    .dataframe thead th {\n",
       "        text-align: right;\n",
       "    }\n",
       "</style>\n",
       "<table border=\"1\" class=\"dataframe\">\n",
       "  <thead>\n",
       "    <tr style=\"text-align: right;\">\n",
       "      <th></th>\n",
       "      <th>Used Chip</th>\n",
       "    </tr>\n",
       "    <tr>\n",
       "      <th>Fraud</th>\n",
       "      <th></th>\n",
       "    </tr>\n",
       "  </thead>\n",
       "  <tbody>\n",
       "    <tr>\n",
       "      <th>Not Fraud</th>\n",
       "      <td>Chip</td>\n",
       "    </tr>\n",
       "    <tr>\n",
       "      <th>Not Fraud</th>\n",
       "      <td>Chip</td>\n",
       "    </tr>\n",
       "    <tr>\n",
       "      <th>Not Fraud</th>\n",
       "      <td>Chip</td>\n",
       "    </tr>\n",
       "    <tr>\n",
       "      <th>Not Fraud</th>\n",
       "      <td>Chip</td>\n",
       "    </tr>\n",
       "    <tr>\n",
       "      <th>Not Fraud</th>\n",
       "      <td>Chip</td>\n",
       "    </tr>\n",
       "  </tbody>\n",
       "</table>\n",
       "</div>"
      ],
      "text/plain": [
       "          Used Chip\n",
       "Fraud              \n",
       "Not Fraud      Chip\n",
       "Not Fraud      Chip\n",
       "Not Fraud      Chip\n",
       "Not Fraud      Chip\n",
       "Not Fraud      Chip"
      ]
     },
     "execution_count": 4,
     "metadata": {},
     "output_type": "execute_result"
    }
   ],
   "source": [
    "fraud_chip_df = used_chip_df.loc[(used_chip_df[\"Used Chip\"] == \"Chip\"), :]\n",
    "fraud_chip_df.head()"
   ]
  },
  {
   "cell_type": "code",
   "execution_count": 5,
   "metadata": {},
   "outputs": [
    {
     "data": {
      "text/plain": [
       "Fraud      Used Chip\n",
       "Fraud      Chip          22410\n",
       "Not Fraud  Chip         327989\n",
       "Name: count, dtype: int64"
      ]
     },
     "execution_count": 5,
     "metadata": {},
     "output_type": "execute_result"
    }
   ],
   "source": [
    "grouped_chip_df = fraud_chip_df.groupby(['Fraud', 'Used Chip']).value_counts()\n",
    "grouped_chip_df.head()"
   ]
  },
  {
   "cell_type": "code",
   "execution_count": 6,
   "metadata": {},
   "outputs": [
    {
     "data": {
      "application/vnd.jupyter.widget-view+json": {
       "model_id": "c92e940fd26d49ad86942ecaeca8344d",
       "version_major": 2,
       "version_minor": 0
      },
      "image/png": "[encoded data removed]",
      "text/html": [
       "\n",
       "            <div style=\"display: inline-block;\">\n",
       "                <div class=\"jupyter-widgets widget-label\" style=\"text-align: center;\">\n",
       "                    Figure\n",
       "                </div>\n",
       "                <img src='data:image/png;base64,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' width=500.0/>\n",
       "            </div>\n",
       "        "
      ],
      "text/plain": [
       "Canvas(toolbar=Toolbar(toolitems=[('Home', 'Reset original view', 'home', 'home'), ('Back', 'Back to previous …"
      ]
     },
     "metadata": {},
     "output_type": "display_data"
    }
   ],
   "source": [
    "chip_use_plot = grouped_chip_df.plot(kind=\"bar\", figsize=(5,5))\n",
    "plt.title(\"Card Present - Chip Used\")\n",
    "plt.ylabel(\"Transactions\")\n",
    "plt.gca().set_xticklabels(['Chip Fraud', 'Chip Not Fraud'])\n",
    "plt.xticks(rotation=0)\n",
    "plt.xlabel(\"Chip Use\", rotation=0)\n",
    "plt.show()\n",
    "plt.tight_layout()"
   ]
  },
  {
   "cell_type": "code",
   "execution_count": 7,
   "metadata": {},
   "outputs": [
    {
     "ename": "FileNotFoundError",
     "evalue": "[Errno 2] No such file or directory: '../Resources/Images/Chip.png'",
     "output_type": "error",
     "traceback": [
      "\u001b[1;31m---------------------------------------------------------------------------\u001b[0m",
      "\u001b[1;31mFileNotFoundError\u001b[0m                         Traceback (most recent call last)",
      "Cell \u001b[1;32mIn[7], line 2\u001b[0m\n\u001b[0;32m      1\u001b[0m \u001b[38;5;66;03m# Save an image of the chart and print it to the screen\u001b[39;00m\n\u001b[1;32m----> 2\u001b[0m \u001b[43mplt\u001b[49m\u001b[38;5;241;43m.\u001b[39;49m\u001b[43msavefig\u001b[49m\u001b[43m(\u001b[49m\u001b[38;5;124;43m\"\u001b[39;49m\u001b[38;5;124;43m../Resources/Images/Chip.png\u001b[39;49m\u001b[38;5;124;43m\"\u001b[39;49m\u001b[43m)\u001b[49m\n\u001b[0;32m      3\u001b[0m plt\u001b[38;5;241m.\u001b[39mshow()\n",
      "File \u001b[1;32mc:\\Users\\mdmoo\\anaconda3\\envs\\dev\\lib\\site-packages\\matplotlib\\pyplot.py:1134\u001b[0m, in \u001b[0;36msavefig\u001b[1;34m(*args, **kwargs)\u001b[0m\n\u001b[0;32m   1131\u001b[0m fig \u001b[38;5;241m=\u001b[39m gcf()\n\u001b[0;32m   1132\u001b[0m \u001b[38;5;66;03m# savefig default implementation has no return, so mypy is unhappy\u001b[39;00m\n\u001b[0;32m   1133\u001b[0m \u001b[38;5;66;03m# presumably this is here because subclasses can return?\u001b[39;00m\n\u001b[1;32m-> 1134\u001b[0m res \u001b[38;5;241m=\u001b[39m fig\u001b[38;5;241m.\u001b[39msavefig(\u001b[38;5;241m*\u001b[39margs, \u001b[38;5;241m*\u001b[39m\u001b[38;5;241m*\u001b[39mkwargs)  \u001b[38;5;66;03m# type: ignore[func-returns-value]\u001b[39;00m\n\u001b[0;32m   1135\u001b[0m fig\u001b[38;5;241m.\u001b[39mcanvas\u001b[38;5;241m.\u001b[39mdraw_idle()  \u001b[38;5;66;03m# Need this if 'transparent=True', to reset colors.\u001b[39;00m\n\u001b[0;32m   1136\u001b[0m \u001b[38;5;28;01mreturn\u001b[39;00m res\n",
      "File \u001b[1;32mc:\\Users\\mdmoo\\anaconda3\\envs\\dev\\lib\\site-packages\\matplotlib\\figure.py:3390\u001b[0m, in \u001b[0;36mFigure.savefig\u001b[1;34m(self, fname, transparent, **kwargs)\u001b[0m\n\u001b[0;32m   3388\u001b[0m     \u001b[38;5;28;01mfor\u001b[39;00m ax \u001b[38;5;129;01min\u001b[39;00m \u001b[38;5;28mself\u001b[39m\u001b[38;5;241m.\u001b[39maxes:\n\u001b[0;32m   3389\u001b[0m         _recursively_make_axes_transparent(stack, ax)\n\u001b[1;32m-> 3390\u001b[0m \u001b[38;5;28mself\u001b[39m\u001b[38;5;241m.\u001b[39mcanvas\u001b[38;5;241m.\u001b[39mprint_figure(fname, \u001b[38;5;241m*\u001b[39m\u001b[38;5;241m*\u001b[39mkwargs)\n",
      "File \u001b[1;32mc:\\Users\\mdmoo\\anaconda3\\envs\\dev\\lib\\site-packages\\matplotlib\\backend_bases.py:2193\u001b[0m, in \u001b[0;36mFigureCanvasBase.print_figure\u001b[1;34m(self, filename, dpi, facecolor, edgecolor, orientation, format, bbox_inches, pad_inches, bbox_extra_artists, backend, **kwargs)\u001b[0m\n\u001b[0;32m   2189\u001b[0m \u001b[38;5;28;01mtry\u001b[39;00m:\n\u001b[0;32m   2190\u001b[0m     \u001b[38;5;66;03m# _get_renderer may change the figure dpi (as vector formats\u001b[39;00m\n\u001b[0;32m   2191\u001b[0m     \u001b[38;5;66;03m# force the figure dpi to 72), so we need to set it again here.\u001b[39;00m\n\u001b[0;32m   2192\u001b[0m     \u001b[38;5;28;01mwith\u001b[39;00m cbook\u001b[38;5;241m.\u001b[39m_setattr_cm(\u001b[38;5;28mself\u001b[39m\u001b[38;5;241m.\u001b[39mfigure, dpi\u001b[38;5;241m=\u001b[39mdpi):\n\u001b[1;32m-> 2193\u001b[0m         result \u001b[38;5;241m=\u001b[39m print_method(\n\u001b[0;32m   2194\u001b[0m             filename,\n\u001b[0;32m   2195\u001b[0m             facecolor\u001b[38;5;241m=\u001b[39mfacecolor,\n\u001b[0;32m   2196\u001b[0m             edgecolor\u001b[38;5;241m=\u001b[39medgecolor,\n\u001b[0;32m   2197\u001b[0m             orientation\u001b[38;5;241m=\u001b[39morientation,\n\u001b[0;32m   2198\u001b[0m             bbox_inches_restore\u001b[38;5;241m=\u001b[39m_bbox_inches_restore,\n\u001b[0;32m   2199\u001b[0m             \u001b[38;5;241m*\u001b[39m\u001b[38;5;241m*\u001b[39mkwargs)\n\u001b[0;32m   2200\u001b[0m \u001b[38;5;28;01mfinally\u001b[39;00m:\n\u001b[0;32m   2201\u001b[0m     \u001b[38;5;28;01mif\u001b[39;00m bbox_inches \u001b[38;5;129;01mand\u001b[39;00m restore_bbox:\n",
      "File \u001b[1;32mc:\\Users\\mdmoo\\anaconda3\\envs\\dev\\lib\\site-packages\\matplotlib\\backend_bases.py:2043\u001b[0m, in \u001b[0;36mFigureCanvasBase._switch_canvas_and_return_print_method.<locals>.<lambda>\u001b[1;34m(*args, **kwargs)\u001b[0m\n\u001b[0;32m   2039\u001b[0m     optional_kws \u001b[38;5;241m=\u001b[39m {  \u001b[38;5;66;03m# Passed by print_figure for other renderers.\u001b[39;00m\n\u001b[0;32m   2040\u001b[0m         \u001b[38;5;124m\"\u001b[39m\u001b[38;5;124mdpi\u001b[39m\u001b[38;5;124m\"\u001b[39m, \u001b[38;5;124m\"\u001b[39m\u001b[38;5;124mfacecolor\u001b[39m\u001b[38;5;124m\"\u001b[39m, \u001b[38;5;124m\"\u001b[39m\u001b[38;5;124medgecolor\u001b[39m\u001b[38;5;124m\"\u001b[39m, \u001b[38;5;124m\"\u001b[39m\u001b[38;5;124morientation\u001b[39m\u001b[38;5;124m\"\u001b[39m,\n\u001b[0;32m   2041\u001b[0m         \u001b[38;5;124m\"\u001b[39m\u001b[38;5;124mbbox_inches_restore\u001b[39m\u001b[38;5;124m\"\u001b[39m}\n\u001b[0;32m   2042\u001b[0m     skip \u001b[38;5;241m=\u001b[39m optional_kws \u001b[38;5;241m-\u001b[39m {\u001b[38;5;241m*\u001b[39minspect\u001b[38;5;241m.\u001b[39msignature(meth)\u001b[38;5;241m.\u001b[39mparameters}\n\u001b[1;32m-> 2043\u001b[0m     print_method \u001b[38;5;241m=\u001b[39m functools\u001b[38;5;241m.\u001b[39mwraps(meth)(\u001b[38;5;28;01mlambda\u001b[39;00m \u001b[38;5;241m*\u001b[39margs, \u001b[38;5;241m*\u001b[39m\u001b[38;5;241m*\u001b[39mkwargs: meth(\n\u001b[0;32m   2044\u001b[0m         \u001b[38;5;241m*\u001b[39margs, \u001b[38;5;241m*\u001b[39m\u001b[38;5;241m*\u001b[39m{k: v \u001b[38;5;28;01mfor\u001b[39;00m k, v \u001b[38;5;129;01min\u001b[39;00m kwargs\u001b[38;5;241m.\u001b[39mitems() \u001b[38;5;28;01mif\u001b[39;00m k \u001b[38;5;129;01mnot\u001b[39;00m \u001b[38;5;129;01min\u001b[39;00m skip}))\n\u001b[0;32m   2045\u001b[0m \u001b[38;5;28;01melse\u001b[39;00m:  \u001b[38;5;66;03m# Let third-parties do as they see fit.\u001b[39;00m\n\u001b[0;32m   2046\u001b[0m     print_method \u001b[38;5;241m=\u001b[39m meth\n",
      "File \u001b[1;32mc:\\Users\\mdmoo\\anaconda3\\envs\\dev\\lib\\site-packages\\matplotlib\\backends\\backend_agg.py:497\u001b[0m, in \u001b[0;36mFigureCanvasAgg.print_png\u001b[1;34m(self, filename_or_obj, metadata, pil_kwargs)\u001b[0m\n\u001b[0;32m    450\u001b[0m \u001b[38;5;28;01mdef\u001b[39;00m \u001b[38;5;21mprint_png\u001b[39m(\u001b[38;5;28mself\u001b[39m, filename_or_obj, \u001b[38;5;241m*\u001b[39m, metadata\u001b[38;5;241m=\u001b[39m\u001b[38;5;28;01mNone\u001b[39;00m, pil_kwargs\u001b[38;5;241m=\u001b[39m\u001b[38;5;28;01mNone\u001b[39;00m):\n\u001b[0;32m    451\u001b[0m \u001b[38;5;250m    \u001b[39m\u001b[38;5;124;03m\"\"\"\u001b[39;00m\n\u001b[0;32m    452\u001b[0m \u001b[38;5;124;03m    Write the figure to a PNG file.\u001b[39;00m\n\u001b[0;32m    453\u001b[0m \n\u001b[1;32m   (...)\u001b[0m\n\u001b[0;32m    495\u001b[0m \u001b[38;5;124;03m        *metadata*, including the default 'Software' key.\u001b[39;00m\n\u001b[0;32m    496\u001b[0m \u001b[38;5;124;03m    \"\"\"\u001b[39;00m\n\u001b[1;32m--> 497\u001b[0m     \u001b[38;5;28;43mself\u001b[39;49m\u001b[38;5;241;43m.\u001b[39;49m\u001b[43m_print_pil\u001b[49m\u001b[43m(\u001b[49m\u001b[43mfilename_or_obj\u001b[49m\u001b[43m,\u001b[49m\u001b[43m \u001b[49m\u001b[38;5;124;43m\"\u001b[39;49m\u001b[38;5;124;43mpng\u001b[39;49m\u001b[38;5;124;43m\"\u001b[39;49m\u001b[43m,\u001b[49m\u001b[43m \u001b[49m\u001b[43mpil_kwargs\u001b[49m\u001b[43m,\u001b[49m\u001b[43m \u001b[49m\u001b[43mmetadata\u001b[49m\u001b[43m)\u001b[49m\n",
      "File \u001b[1;32mc:\\Users\\mdmoo\\anaconda3\\envs\\dev\\lib\\site-packages\\matplotlib\\backends\\backend_agg.py:446\u001b[0m, in \u001b[0;36mFigureCanvasAgg._print_pil\u001b[1;34m(self, filename_or_obj, fmt, pil_kwargs, metadata)\u001b[0m\n\u001b[0;32m    441\u001b[0m \u001b[38;5;250m\u001b[39m\u001b[38;5;124;03m\"\"\"\u001b[39;00m\n\u001b[0;32m    442\u001b[0m \u001b[38;5;124;03mDraw the canvas, then save it using `.image.imsave` (to which\u001b[39;00m\n\u001b[0;32m    443\u001b[0m \u001b[38;5;124;03m*pil_kwargs* and *metadata* are forwarded).\u001b[39;00m\n\u001b[0;32m    444\u001b[0m \u001b[38;5;124;03m\"\"\"\u001b[39;00m\n\u001b[0;32m    445\u001b[0m FigureCanvasAgg\u001b[38;5;241m.\u001b[39mdraw(\u001b[38;5;28mself\u001b[39m)\n\u001b[1;32m--> 446\u001b[0m \u001b[43mmpl\u001b[49m\u001b[38;5;241;43m.\u001b[39;49m\u001b[43mimage\u001b[49m\u001b[38;5;241;43m.\u001b[39;49m\u001b[43mimsave\u001b[49m\u001b[43m(\u001b[49m\n\u001b[0;32m    447\u001b[0m \u001b[43m    \u001b[49m\u001b[43mfilename_or_obj\u001b[49m\u001b[43m,\u001b[49m\u001b[43m \u001b[49m\u001b[38;5;28;43mself\u001b[39;49m\u001b[38;5;241;43m.\u001b[39;49m\u001b[43mbuffer_rgba\u001b[49m\u001b[43m(\u001b[49m\u001b[43m)\u001b[49m\u001b[43m,\u001b[49m\u001b[43m \u001b[49m\u001b[38;5;28;43mformat\u001b[39;49m\u001b[38;5;241;43m=\u001b[39;49m\u001b[43mfmt\u001b[49m\u001b[43m,\u001b[49m\u001b[43m \u001b[49m\u001b[43morigin\u001b[49m\u001b[38;5;241;43m=\u001b[39;49m\u001b[38;5;124;43m\"\u001b[39;49m\u001b[38;5;124;43mupper\u001b[39;49m\u001b[38;5;124;43m\"\u001b[39;49m\u001b[43m,\u001b[49m\n\u001b[0;32m    448\u001b[0m \u001b[43m    \u001b[49m\u001b[43mdpi\u001b[49m\u001b[38;5;241;43m=\u001b[39;49m\u001b[38;5;28;43mself\u001b[39;49m\u001b[38;5;241;43m.\u001b[39;49m\u001b[43mfigure\u001b[49m\u001b[38;5;241;43m.\u001b[39;49m\u001b[43mdpi\u001b[49m\u001b[43m,\u001b[49m\u001b[43m \u001b[49m\u001b[43mmetadata\u001b[49m\u001b[38;5;241;43m=\u001b[39;49m\u001b[43mmetadata\u001b[49m\u001b[43m,\u001b[49m\u001b[43m \u001b[49m\u001b[43mpil_kwargs\u001b[49m\u001b[38;5;241;43m=\u001b[39;49m\u001b[43mpil_kwargs\u001b[49m\u001b[43m)\u001b[49m\n",
      "File \u001b[1;32mc:\\Users\\mdmoo\\anaconda3\\envs\\dev\\lib\\site-packages\\matplotlib\\image.py:1656\u001b[0m, in \u001b[0;36mimsave\u001b[1;34m(fname, arr, vmin, vmax, cmap, format, origin, dpi, metadata, pil_kwargs)\u001b[0m\n\u001b[0;32m   1654\u001b[0m pil_kwargs\u001b[38;5;241m.\u001b[39msetdefault(\u001b[38;5;124m\"\u001b[39m\u001b[38;5;124mformat\u001b[39m\u001b[38;5;124m\"\u001b[39m, \u001b[38;5;28mformat\u001b[39m)\n\u001b[0;32m   1655\u001b[0m pil_kwargs\u001b[38;5;241m.\u001b[39msetdefault(\u001b[38;5;124m\"\u001b[39m\u001b[38;5;124mdpi\u001b[39m\u001b[38;5;124m\"\u001b[39m, (dpi, dpi))\n\u001b[1;32m-> 1656\u001b[0m image\u001b[38;5;241m.\u001b[39msave(fname, \u001b[38;5;241m*\u001b[39m\u001b[38;5;241m*\u001b[39mpil_kwargs)\n",
      "File \u001b[1;32mc:\\Users\\mdmoo\\anaconda3\\envs\\dev\\lib\\site-packages\\PIL\\Image.py:2436\u001b[0m, in \u001b[0;36mImage.save\u001b[1;34m(self, fp, format, **params)\u001b[0m\n\u001b[0;32m   2434\u001b[0m         fp \u001b[38;5;241m=\u001b[39m builtins\u001b[38;5;241m.\u001b[39mopen(filename, \u001b[38;5;124m\"\u001b[39m\u001b[38;5;124mr+b\u001b[39m\u001b[38;5;124m\"\u001b[39m)\n\u001b[0;32m   2435\u001b[0m     \u001b[38;5;28;01melse\u001b[39;00m:\n\u001b[1;32m-> 2436\u001b[0m         fp \u001b[38;5;241m=\u001b[39m \u001b[43mbuiltins\u001b[49m\u001b[38;5;241;43m.\u001b[39;49m\u001b[43mopen\u001b[49m\u001b[43m(\u001b[49m\u001b[43mfilename\u001b[49m\u001b[43m,\u001b[49m\u001b[43m \u001b[49m\u001b[38;5;124;43m\"\u001b[39;49m\u001b[38;5;124;43mw+b\u001b[39;49m\u001b[38;5;124;43m\"\u001b[39;49m\u001b[43m)\u001b[49m\n\u001b[0;32m   2438\u001b[0m \u001b[38;5;28;01mtry\u001b[39;00m:\n\u001b[0;32m   2439\u001b[0m     save_handler(\u001b[38;5;28mself\u001b[39m, fp, filename)\n",
      "\u001b[1;31mFileNotFoundError\u001b[0m: [Errno 2] No such file or directory: '../Resources/Images/Chip.png'"
     ]
    }
   ],
   "source": [
    "# Save an image of the chart and print it to the screen\n",
    "plt.savefig(\"../Resources/Images/Chip.png\")\n",
    "plt.show()"
   ]
  }
 ],
 "metadata": {
  "kernelspec": {
   "display_name": "dev",
   "language": "python",
   "name": "python3"
  },
  "language_info": {
   "codemirror_mode": {
    "name": "ipython",
    "version": 3
   },
   "file_extension": ".py",
   "mimetype": "text/x-python",
   "name": "python",
   "nbconvert_exporter": "python",
   "pygments_lexer": "ipython3",
   "version": "3.10.14"
  }
 },
 "nbformat": 4,
 "nbformat_minor": 2
}

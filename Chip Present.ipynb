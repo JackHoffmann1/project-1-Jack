{
 "cells": [
  {
   "cell_type": "markdown",
   "metadata": {},
   "source": [
    "### Analyzing the credit card EMV chip usage in preventing fraudulent transations"
   ]
  },
  {
   "cell_type": "code",
   "execution_count": 2,
   "metadata": {},
   "outputs": [],
   "source": [
    "%matplotlib widget\n",
    "\n",
    "# Import dependencies\n",
    "import matplotlib.pyplot as plt\n",
    "import numpy as np\n",
    "import pandas as pd"
   ]
  },
  {
   "cell_type": "code",
   "execution_count": 3,
   "metadata": {},
   "outputs": [
    {
     "data": {
      "text/html": [
       "<div>\n",
       "<style scoped>\n",
       "    .dataframe tbody tr th:only-of-type {\n",
       "        vertical-align: middle;\n",
       "    }\n",
       "\n",
       "    .dataframe tbody tr th {\n",
       "        vertical-align: top;\n",
       "    }\n",
       "\n",
       "    .dataframe thead th {\n",
       "        text-align: right;\n",
       "    }\n",
       "</style>\n",
       "<table border=\"1\" class=\"dataframe\">\n",
       "  <thead>\n",
       "    <tr style=\"text-align: right;\">\n",
       "      <th></th>\n",
       "      <th>Distance From Home</th>\n",
       "      <th>Distance From Last Transaction</th>\n",
       "      <th>Ratio to Median Purchase Price</th>\n",
       "      <th>Repeat Retailer</th>\n",
       "      <th>Used Chip</th>\n",
       "      <th>Used Pin Number</th>\n",
       "      <th>Online Order</th>\n",
       "      <th>Fraud</th>\n",
       "    </tr>\n",
       "  </thead>\n",
       "  <tbody>\n",
       "    <tr>\n",
       "      <th>0</th>\n",
       "      <td>57.88</td>\n",
       "      <td>0.31</td>\n",
       "      <td>1.95</td>\n",
       "      <td>1</td>\n",
       "      <td>Chip</td>\n",
       "      <td>No Pin</td>\n",
       "      <td>0</td>\n",
       "      <td>Not Fraud</td>\n",
       "    </tr>\n",
       "    <tr>\n",
       "      <th>1</th>\n",
       "      <td>10.83</td>\n",
       "      <td>0.18</td>\n",
       "      <td>1.29</td>\n",
       "      <td>1</td>\n",
       "      <td>No Chip</td>\n",
       "      <td>No Pin</td>\n",
       "      <td>0</td>\n",
       "      <td>Not Fraud</td>\n",
       "    </tr>\n",
       "    <tr>\n",
       "      <th>2</th>\n",
       "      <td>5.09</td>\n",
       "      <td>0.81</td>\n",
       "      <td>0.43</td>\n",
       "      <td>1</td>\n",
       "      <td>No Chip</td>\n",
       "      <td>No Pin</td>\n",
       "      <td>1</td>\n",
       "      <td>Not Fraud</td>\n",
       "    </tr>\n",
       "    <tr>\n",
       "      <th>3</th>\n",
       "      <td>2.25</td>\n",
       "      <td>5.60</td>\n",
       "      <td>0.36</td>\n",
       "      <td>1</td>\n",
       "      <td>Chip</td>\n",
       "      <td>No Pin</td>\n",
       "      <td>1</td>\n",
       "      <td>Not Fraud</td>\n",
       "    </tr>\n",
       "    <tr>\n",
       "      <th>4</th>\n",
       "      <td>44.19</td>\n",
       "      <td>0.57</td>\n",
       "      <td>2.22</td>\n",
       "      <td>1</td>\n",
       "      <td>Chip</td>\n",
       "      <td>No Pin</td>\n",
       "      <td>1</td>\n",
       "      <td>Not Fraud</td>\n",
       "    </tr>\n",
       "  </tbody>\n",
       "</table>\n",
       "</div>"
      ],
      "text/plain": [
       "   Distance From Home  Distance From Last Transaction  \\\n",
       "0               57.88                            0.31   \n",
       "1               10.83                            0.18   \n",
       "2                5.09                            0.81   \n",
       "3                2.25                            5.60   \n",
       "4               44.19                            0.57   \n",
       "\n",
       "   Ratio to Median Purchase Price  Repeat Retailer Used Chip Used Pin Number  \\\n",
       "0                            1.95                1      Chip          No Pin   \n",
       "1                            1.29                1   No Chip          No Pin   \n",
       "2                            0.43                1   No Chip          No Pin   \n",
       "3                            0.36                1      Chip          No Pin   \n",
       "4                            2.22                1      Chip          No Pin   \n",
       "\n",
       "   Online Order      Fraud  \n",
       "0             0  Not Fraud  \n",
       "1             0  Not Fraud  \n",
       "2             1  Not Fraud  \n",
       "3             1  Not Fraud  \n",
       "4             1  Not Fraud  "
      ]
     },
     "execution_count": 3,
     "metadata": {},
     "output_type": "execute_result"
    }
   ],
   "source": [
    "# Load in csv and replace column integers\n",
    "card_df = pd.read_csv(\"main\\Resources\\cleaned_card_data.csv\")\n",
    "card_df['Used Chip'].replace(1, 'Chip', inplace=True)\n",
    "card_df['Used Chip'].replace(0, 'No Chip', inplace=True)\n",
    "card_df['Fraud'].replace(1, 'Fraud', inplace=True)\n",
    "card_df['Fraud'].replace(0, 'Not Fraud', inplace=True)\n",
    "card_df['Used Pin Number'].replace(1, 'Pin', inplace=True)\n",
    "card_df['Used Pin Number'].replace(0, 'No Pin', inplace=True)\n",
    "card_df.head()"
   ]
  },
  {
   "cell_type": "code",
   "execution_count": 4,
   "metadata": {},
   "outputs": [
    {
     "data": {
      "text/html": [
       "<div>\n",
       "<style scoped>\n",
       "    .dataframe tbody tr th:only-of-type {\n",
       "        vertical-align: middle;\n",
       "    }\n",
       "\n",
       "    .dataframe tbody tr th {\n",
       "        vertical-align: top;\n",
       "    }\n",
       "\n",
       "    .dataframe thead th {\n",
       "        text-align: right;\n",
       "    }\n",
       "</style>\n",
       "<table border=\"1\" class=\"dataframe\">\n",
       "  <thead>\n",
       "    <tr style=\"text-align: right;\">\n",
       "      <th></th>\n",
       "      <th>Used Chip</th>\n",
       "    </tr>\n",
       "    <tr>\n",
       "      <th>Fraud</th>\n",
       "      <th></th>\n",
       "    </tr>\n",
       "  </thead>\n",
       "  <tbody>\n",
       "    <tr>\n",
       "      <th>Not Fraud</th>\n",
       "      <td>Chip</td>\n",
       "    </tr>\n",
       "    <tr>\n",
       "      <th>Not Fraud</th>\n",
       "      <td>No Chip</td>\n",
       "    </tr>\n",
       "    <tr>\n",
       "      <th>Not Fraud</th>\n",
       "      <td>No Chip</td>\n",
       "    </tr>\n",
       "    <tr>\n",
       "      <th>Not Fraud</th>\n",
       "      <td>Chip</td>\n",
       "    </tr>\n",
       "    <tr>\n",
       "      <th>Not Fraud</th>\n",
       "      <td>Chip</td>\n",
       "    </tr>\n",
       "  </tbody>\n",
       "</table>\n",
       "</div>"
      ],
      "text/plain": [
       "          Used Chip\n",
       "Fraud              \n",
       "Not Fraud      Chip\n",
       "Not Fraud   No Chip\n",
       "Not Fraud   No Chip\n",
       "Not Fraud      Chip\n",
       "Not Fraud      Chip"
      ]
     },
     "execution_count": 4,
     "metadata": {},
     "output_type": "execute_result"
    }
   ],
   "source": [
    "# Create Used Chip dataframe\n",
    "used_chip_df = card_df[[\"Fraud\", \"Used Chip\"]].set_index(\"Fraud\")\n",
    "used_chip_df.head()"
   ]
  },
  {
   "cell_type": "code",
   "execution_count": 5,
   "metadata": {},
   "outputs": [
    {
     "data": {
      "text/html": [
       "<div>\n",
       "<style scoped>\n",
       "    .dataframe tbody tr th:only-of-type {\n",
       "        vertical-align: middle;\n",
       "    }\n",
       "\n",
       "    .dataframe tbody tr th {\n",
       "        vertical-align: top;\n",
       "    }\n",
       "\n",
       "    .dataframe thead th {\n",
       "        text-align: right;\n",
       "    }\n",
       "</style>\n",
       "<table border=\"1\" class=\"dataframe\">\n",
       "  <thead>\n",
       "    <tr style=\"text-align: right;\">\n",
       "      <th></th>\n",
       "      <th>Used Chip</th>\n",
       "    </tr>\n",
       "    <tr>\n",
       "      <th>Fraud</th>\n",
       "      <th></th>\n",
       "    </tr>\n",
       "  </thead>\n",
       "  <tbody>\n",
       "    <tr>\n",
       "      <th>Not Fraud</th>\n",
       "      <td>Chip</td>\n",
       "    </tr>\n",
       "    <tr>\n",
       "      <th>Not Fraud</th>\n",
       "      <td>Chip</td>\n",
       "    </tr>\n",
       "    <tr>\n",
       "      <th>Not Fraud</th>\n",
       "      <td>Chip</td>\n",
       "    </tr>\n",
       "    <tr>\n",
       "      <th>Not Fraud</th>\n",
       "      <td>Chip</td>\n",
       "    </tr>\n",
       "    <tr>\n",
       "      <th>Not Fraud</th>\n",
       "      <td>Chip</td>\n",
       "    </tr>\n",
       "  </tbody>\n",
       "</table>\n",
       "</div>"
      ],
      "text/plain": [
       "          Used Chip\n",
       "Fraud              \n",
       "Not Fraud      Chip\n",
       "Not Fraud      Chip\n",
       "Not Fraud      Chip\n",
       "Not Fraud      Chip\n",
       "Not Fraud      Chip"
      ]
     },
     "execution_count": 5,
     "metadata": {},
     "output_type": "execute_result"
    }
   ],
   "source": [
    "fraud_chip_df = used_chip_df.loc[(used_chip_df[\"Used Chip\"] == \"Chip\"), :]\n",
    "fraud_chip_df.head()"
   ]
  },
  {
   "cell_type": "code",
   "execution_count": 6,
   "metadata": {},
   "outputs": [
    {
     "data": {
      "text/plain": [
       "Fraud      Used Chip\n",
       "Fraud      Chip          22410\n",
       "Not Fraud  Chip         327989\n",
       "Name: count, dtype: int64"
      ]
     },
     "execution_count": 6,
     "metadata": {},
     "output_type": "execute_result"
    }
   ],
   "source": [
    "grouped_chip_df = fraud_chip_df.groupby(['Fraud', 'Used Chip']).value_counts()\n",
    "grouped_chip_df.head()"
   ]
  },
  {
   "cell_type": "code",
   "execution_count": 7,
   "metadata": {},
   "outputs": [
    {
     "data": {
      "application/vnd.jupyter.widget-view+json": {
       "model_id": "65944763e7da4364b536fe761558c94c",
       "version_major": 2,
       "version_minor": 0
      },
      "image/png": "[encoded data removed]",
      "text/html": [
       "\n",
       "            <div style=\"display: inline-block;\">\n",
       "                <div class=\"jupyter-widgets widget-label\" style=\"text-align: center;\">\n",
       "                    Figure\n",
       "                </div>\n",
       "                <img src='data:image/png;base64,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' width=500.0/>\n",
       "            </div>\n",
       "        "
      ],
      "text/plain": [
       "Canvas(toolbar=Toolbar(toolitems=[('Home', 'Reset original view', 'home', 'home'), ('Back', 'Back to previous …"
      ]
     },
     "metadata": {},
     "output_type": "display_data"
    }
   ],
   "source": [
    "chip_use_plot = grouped_chip_df.plot(kind=\"bar\", figsize=(5,5))\n",
    "plt.title(\"Card Present - Chip Used\")\n",
    "plt.ylabel(\"Transactions\")\n",
    "plt.gca().set_xticklabels(['Chip Fraud', 'Chip Not Fraud'])\n",
    "plt.xticks(rotation=0)\n",
    "plt.xlabel(\"Chip Use\", rotation=0)\n",
    "plt.show()\n",
    "plt.tight_layout()"
   ]
  },
  {
   "cell_type": "code",
   "execution_count": 8,
   "metadata": {},
   "outputs": [
    {
     "ename": "FileNotFoundError",
     "evalue": "[Errno 2] No such file or directory: '../Resources/Chip.png'",
     "output_type": "error",
     "traceback": [
      "\u001b[1;31m---------------------------------------------------------------------------\u001b[0m",
      "\u001b[1;31mFileNotFoundError\u001b[0m                         Traceback (most recent call last)",
      "Cell \u001b[1;32mIn[8], line 2\u001b[0m\n\u001b[0;32m      1\u001b[0m \u001b[38;5;66;03m# Save an image of the chart and print it to the screen\u001b[39;00m\n\u001b[1;32m----> 2\u001b[0m \u001b[43mplt\u001b[49m\u001b[38;5;241;43m.\u001b[39;49m\u001b[43msavefig\u001b[49m\u001b[43m(\u001b[49m\u001b[38;5;124;43m\"\u001b[39;49m\u001b[38;5;124;43m../Resources/Chip.png\u001b[39;49m\u001b[38;5;124;43m\"\u001b[39;49m\u001b[43m)\u001b[49m\n\u001b[0;32m      3\u001b[0m plt\u001b[38;5;241m.\u001b[39mshow()\n",
      "File \u001b[1;32mc:\\Users\\justi\\anaconda3\\envs\\dev\\lib\\site-packages\\matplotlib\\pyplot.py:1134\u001b[0m, in \u001b[0;36msavefig\u001b[1;34m(*args, **kwargs)\u001b[0m\n\u001b[0;32m   1131\u001b[0m fig \u001b[38;5;241m=\u001b[39m gcf()\n\u001b[0;32m   1132\u001b[0m \u001b[38;5;66;03m# savefig default implementation has no return, so mypy is unhappy\u001b[39;00m\n\u001b[0;32m   1133\u001b[0m \u001b[38;5;66;03m# presumably this is here because subclasses can return?\u001b[39;00m\n\u001b[1;32m-> 1134\u001b[0m res \u001b[38;5;241m=\u001b[39m fig\u001b[38;5;241m.\u001b[39msavefig(\u001b[38;5;241m*\u001b[39margs, \u001b[38;5;241m*\u001b[39m\u001b[38;5;241m*\u001b[39mkwargs)  \u001b[38;5;66;03m# type: ignore[func-returns-value]\u001b[39;00m\n\u001b[0;32m   1135\u001b[0m fig\u001b[38;5;241m.\u001b[39mcanvas\u001b[38;5;241m.\u001b[39mdraw_idle()  \u001b[38;5;66;03m# Need this if 'transparent=True', to reset colors.\u001b[39;00m\n\u001b[0;32m   1136\u001b[0m \u001b[38;5;28;01mreturn\u001b[39;00m res\n",
      "File \u001b[1;32mc:\\Users\\justi\\anaconda3\\envs\\dev\\lib\\site-packages\\matplotlib\\figure.py:3390\u001b[0m, in \u001b[0;36mFigure.savefig\u001b[1;34m(self, fname, transparent, **kwargs)\u001b[0m\n\u001b[0;32m   3388\u001b[0m     \u001b[38;5;28;01mfor\u001b[39;00m ax \u001b[38;5;129;01min\u001b[39;00m \u001b[38;5;28mself\u001b[39m\u001b[38;5;241m.\u001b[39maxes:\n\u001b[0;32m   3389\u001b[0m         _recursively_make_axes_transparent(stack, ax)\n\u001b[1;32m-> 3390\u001b[0m \u001b[38;5;28mself\u001b[39m\u001b[38;5;241m.\u001b[39mcanvas\u001b[38;5;241m.\u001b[39mprint_figure(fname, \u001b[38;5;241m*\u001b[39m\u001b[38;5;241m*\u001b[39mkwargs)\n",
      "File \u001b[1;32mc:\\Users\\justi\\anaconda3\\envs\\dev\\lib\\site-packages\\matplotlib\\backend_bases.py:2193\u001b[0m, in \u001b[0;36mFigureCanvasBase.print_figure\u001b[1;34m(self, filename, dpi, facecolor, edgecolor, orientation, format, bbox_inches, pad_inches, bbox_extra_artists, backend, **kwargs)\u001b[0m\n\u001b[0;32m   2189\u001b[0m \u001b[38;5;28;01mtry\u001b[39;00m:\n\u001b[0;32m   2190\u001b[0m     \u001b[38;5;66;03m# _get_renderer may change the figure dpi (as vector formats\u001b[39;00m\n\u001b[0;32m   2191\u001b[0m     \u001b[38;5;66;03m# force the figure dpi to 72), so we need to set it again here.\u001b[39;00m\n\u001b[0;32m   2192\u001b[0m     \u001b[38;5;28;01mwith\u001b[39;00m cbook\u001b[38;5;241m.\u001b[39m_setattr_cm(\u001b[38;5;28mself\u001b[39m\u001b[38;5;241m.\u001b[39mfigure, dpi\u001b[38;5;241m=\u001b[39mdpi):\n\u001b[1;32m-> 2193\u001b[0m         result \u001b[38;5;241m=\u001b[39m print_method(\n\u001b[0;32m   2194\u001b[0m             filename,\n\u001b[0;32m   2195\u001b[0m             facecolor\u001b[38;5;241m=\u001b[39mfacecolor,\n\u001b[0;32m   2196\u001b[0m             edgecolor\u001b[38;5;241m=\u001b[39medgecolor,\n\u001b[0;32m   2197\u001b[0m             orientation\u001b[38;5;241m=\u001b[39morientation,\n\u001b[0;32m   2198\u001b[0m             bbox_inches_restore\u001b[38;5;241m=\u001b[39m_bbox_inches_restore,\n\u001b[0;32m   2199\u001b[0m             \u001b[38;5;241m*\u001b[39m\u001b[38;5;241m*\u001b[39mkwargs)\n\u001b[0;32m   2200\u001b[0m \u001b[38;5;28;01mfinally\u001b[39;00m:\n\u001b[0;32m   2201\u001b[0m     \u001b[38;5;28;01mif\u001b[39;00m bbox_inches \u001b[38;5;129;01mand\u001b[39;00m restore_bbox:\n",
      "File \u001b[1;32mc:\\Users\\justi\\anaconda3\\envs\\dev\\lib\\site-packages\\matplotlib\\backend_bases.py:2043\u001b[0m, in \u001b[0;36mFigureCanvasBase._switch_canvas_and_return_print_method.<locals>.<lambda>\u001b[1;34m(*args, **kwargs)\u001b[0m\n\u001b[0;32m   2039\u001b[0m     optional_kws \u001b[38;5;241m=\u001b[39m {  \u001b[38;5;66;03m# Passed by print_figure for other renderers.\u001b[39;00m\n\u001b[0;32m   2040\u001b[0m         \u001b[38;5;124m\"\u001b[39m\u001b[38;5;124mdpi\u001b[39m\u001b[38;5;124m\"\u001b[39m, \u001b[38;5;124m\"\u001b[39m\u001b[38;5;124mfacecolor\u001b[39m\u001b[38;5;124m\"\u001b[39m, \u001b[38;5;124m\"\u001b[39m\u001b[38;5;124medgecolor\u001b[39m\u001b[38;5;124m\"\u001b[39m, \u001b[38;5;124m\"\u001b[39m\u001b[38;5;124morientation\u001b[39m\u001b[38;5;124m\"\u001b[39m,\n\u001b[0;32m   2041\u001b[0m         \u001b[38;5;124m\"\u001b[39m\u001b[38;5;124mbbox_inches_restore\u001b[39m\u001b[38;5;124m\"\u001b[39m}\n\u001b[0;32m   2042\u001b[0m     skip \u001b[38;5;241m=\u001b[39m optional_kws \u001b[38;5;241m-\u001b[39m {\u001b[38;5;241m*\u001b[39minspect\u001b[38;5;241m.\u001b[39msignature(meth)\u001b[38;5;241m.\u001b[39mparameters}\n\u001b[1;32m-> 2043\u001b[0m     print_method \u001b[38;5;241m=\u001b[39m functools\u001b[38;5;241m.\u001b[39mwraps(meth)(\u001b[38;5;28;01mlambda\u001b[39;00m \u001b[38;5;241m*\u001b[39margs, \u001b[38;5;241m*\u001b[39m\u001b[38;5;241m*\u001b[39mkwargs: meth(\n\u001b[0;32m   2044\u001b[0m         \u001b[38;5;241m*\u001b[39margs, \u001b[38;5;241m*\u001b[39m\u001b[38;5;241m*\u001b[39m{k: v \u001b[38;5;28;01mfor\u001b[39;00m k, v \u001b[38;5;129;01min\u001b[39;00m kwargs\u001b[38;5;241m.\u001b[39mitems() \u001b[38;5;28;01mif\u001b[39;00m k \u001b[38;5;129;01mnot\u001b[39;00m \u001b[38;5;129;01min\u001b[39;00m skip}))\n\u001b[0;32m   2045\u001b[0m \u001b[38;5;28;01melse\u001b[39;00m:  \u001b[38;5;66;03m# Let third-parties do as they see fit.\u001b[39;00m\n\u001b[0;32m   2046\u001b[0m     print_method \u001b[38;5;241m=\u001b[39m meth\n",
      "File \u001b[1;32mc:\\Users\\justi\\anaconda3\\envs\\dev\\lib\\site-packages\\matplotlib\\backends\\backend_agg.py:497\u001b[0m, in \u001b[0;36mFigureCanvasAgg.print_png\u001b[1;34m(self, filename_or_obj, metadata, pil_kwargs)\u001b[0m\n\u001b[0;32m    450\u001b[0m \u001b[38;5;28;01mdef\u001b[39;00m \u001b[38;5;21mprint_png\u001b[39m(\u001b[38;5;28mself\u001b[39m, filename_or_obj, \u001b[38;5;241m*\u001b[39m, metadata\u001b[38;5;241m=\u001b[39m\u001b[38;5;28;01mNone\u001b[39;00m, pil_kwargs\u001b[38;5;241m=\u001b[39m\u001b[38;5;28;01mNone\u001b[39;00m):\n\u001b[0;32m    451\u001b[0m \u001b[38;5;250m    \u001b[39m\u001b[38;5;124;03m\"\"\"\u001b[39;00m\n\u001b[0;32m    452\u001b[0m \u001b[38;5;124;03m    Write the figure to a PNG file.\u001b[39;00m\n\u001b[0;32m    453\u001b[0m \n\u001b[1;32m   (...)\u001b[0m\n\u001b[0;32m    495\u001b[0m \u001b[38;5;124;03m        *metadata*, including the default 'Software' key.\u001b[39;00m\n\u001b[0;32m    496\u001b[0m \u001b[38;5;124;03m    \"\"\"\u001b[39;00m\n\u001b[1;32m--> 497\u001b[0m     \u001b[38;5;28;43mself\u001b[39;49m\u001b[38;5;241;43m.\u001b[39;49m\u001b[43m_print_pil\u001b[49m\u001b[43m(\u001b[49m\u001b[43mfilename_or_obj\u001b[49m\u001b[43m,\u001b[49m\u001b[43m \u001b[49m\u001b[38;5;124;43m\"\u001b[39;49m\u001b[38;5;124;43mpng\u001b[39;49m\u001b[38;5;124;43m\"\u001b[39;49m\u001b[43m,\u001b[49m\u001b[43m \u001b[49m\u001b[43mpil_kwargs\u001b[49m\u001b[43m,\u001b[49m\u001b[43m \u001b[49m\u001b[43mmetadata\u001b[49m\u001b[43m)\u001b[49m\n",
      "File \u001b[1;32mc:\\Users\\justi\\anaconda3\\envs\\dev\\lib\\site-packages\\matplotlib\\backends\\backend_agg.py:446\u001b[0m, in \u001b[0;36mFigureCanvasAgg._print_pil\u001b[1;34m(self, filename_or_obj, fmt, pil_kwargs, metadata)\u001b[0m\n\u001b[0;32m    441\u001b[0m \u001b[38;5;250m\u001b[39m\u001b[38;5;124;03m\"\"\"\u001b[39;00m\n\u001b[0;32m    442\u001b[0m \u001b[38;5;124;03mDraw the canvas, then save it using `.image.imsave` (to which\u001b[39;00m\n\u001b[0;32m    443\u001b[0m \u001b[38;5;124;03m*pil_kwargs* and *metadata* are forwarded).\u001b[39;00m\n\u001b[0;32m    444\u001b[0m \u001b[38;5;124;03m\"\"\"\u001b[39;00m\n\u001b[0;32m    445\u001b[0m FigureCanvasAgg\u001b[38;5;241m.\u001b[39mdraw(\u001b[38;5;28mself\u001b[39m)\n\u001b[1;32m--> 446\u001b[0m \u001b[43mmpl\u001b[49m\u001b[38;5;241;43m.\u001b[39;49m\u001b[43mimage\u001b[49m\u001b[38;5;241;43m.\u001b[39;49m\u001b[43mimsave\u001b[49m\u001b[43m(\u001b[49m\n\u001b[0;32m    447\u001b[0m \u001b[43m    \u001b[49m\u001b[43mfilename_or_obj\u001b[49m\u001b[43m,\u001b[49m\u001b[43m \u001b[49m\u001b[38;5;28;43mself\u001b[39;49m\u001b[38;5;241;43m.\u001b[39;49m\u001b[43mbuffer_rgba\u001b[49m\u001b[43m(\u001b[49m\u001b[43m)\u001b[49m\u001b[43m,\u001b[49m\u001b[43m \u001b[49m\u001b[38;5;28;43mformat\u001b[39;49m\u001b[38;5;241;43m=\u001b[39;49m\u001b[43mfmt\u001b[49m\u001b[43m,\u001b[49m\u001b[43m \u001b[49m\u001b[43morigin\u001b[49m\u001b[38;5;241;43m=\u001b[39;49m\u001b[38;5;124;43m\"\u001b[39;49m\u001b[38;5;124;43mupper\u001b[39;49m\u001b[38;5;124;43m\"\u001b[39;49m\u001b[43m,\u001b[49m\n\u001b[0;32m    448\u001b[0m \u001b[43m    \u001b[49m\u001b[43mdpi\u001b[49m\u001b[38;5;241;43m=\u001b[39;49m\u001b[38;5;28;43mself\u001b[39;49m\u001b[38;5;241;43m.\u001b[39;49m\u001b[43mfigure\u001b[49m\u001b[38;5;241;43m.\u001b[39;49m\u001b[43mdpi\u001b[49m\u001b[43m,\u001b[49m\u001b[43m \u001b[49m\u001b[43mmetadata\u001b[49m\u001b[38;5;241;43m=\u001b[39;49m\u001b[43mmetadata\u001b[49m\u001b[43m,\u001b[49m\u001b[43m \u001b[49m\u001b[43mpil_kwargs\u001b[49m\u001b[38;5;241;43m=\u001b[39;49m\u001b[43mpil_kwargs\u001b[49m\u001b[43m)\u001b[49m\n",
      "File \u001b[1;32mc:\\Users\\justi\\anaconda3\\envs\\dev\\lib\\site-packages\\matplotlib\\image.py:1656\u001b[0m, in \u001b[0;36mimsave\u001b[1;34m(fname, arr, vmin, vmax, cmap, format, origin, dpi, metadata, pil_kwargs)\u001b[0m\n\u001b[0;32m   1654\u001b[0m pil_kwargs\u001b[38;5;241m.\u001b[39msetdefault(\u001b[38;5;124m\"\u001b[39m\u001b[38;5;124mformat\u001b[39m\u001b[38;5;124m\"\u001b[39m, \u001b[38;5;28mformat\u001b[39m)\n\u001b[0;32m   1655\u001b[0m pil_kwargs\u001b[38;5;241m.\u001b[39msetdefault(\u001b[38;5;124m\"\u001b[39m\u001b[38;5;124mdpi\u001b[39m\u001b[38;5;124m\"\u001b[39m, (dpi, dpi))\n\u001b[1;32m-> 1656\u001b[0m image\u001b[38;5;241m.\u001b[39msave(fname, \u001b[38;5;241m*\u001b[39m\u001b[38;5;241m*\u001b[39mpil_kwargs)\n",
      "File \u001b[1;32mc:\\Users\\justi\\anaconda3\\envs\\dev\\lib\\site-packages\\PIL\\Image.py:2436\u001b[0m, in \u001b[0;36mImage.save\u001b[1;34m(self, fp, format, **params)\u001b[0m\n\u001b[0;32m   2434\u001b[0m         fp \u001b[38;5;241m=\u001b[39m builtins\u001b[38;5;241m.\u001b[39mopen(filename, \u001b[38;5;124m\"\u001b[39m\u001b[38;5;124mr+b\u001b[39m\u001b[38;5;124m\"\u001b[39m)\n\u001b[0;32m   2435\u001b[0m     \u001b[38;5;28;01melse\u001b[39;00m:\n\u001b[1;32m-> 2436\u001b[0m         fp \u001b[38;5;241m=\u001b[39m \u001b[43mbuiltins\u001b[49m\u001b[38;5;241;43m.\u001b[39;49m\u001b[43mopen\u001b[49m\u001b[43m(\u001b[49m\u001b[43mfilename\u001b[49m\u001b[43m,\u001b[49m\u001b[43m \u001b[49m\u001b[38;5;124;43m\"\u001b[39;49m\u001b[38;5;124;43mw+b\u001b[39;49m\u001b[38;5;124;43m\"\u001b[39;49m\u001b[43m)\u001b[49m\n\u001b[0;32m   2438\u001b[0m \u001b[38;5;28;01mtry\u001b[39;00m:\n\u001b[0;32m   2439\u001b[0m     save_handler(\u001b[38;5;28mself\u001b[39m, fp, filename)\n",
      "\u001b[1;31mFileNotFoundError\u001b[0m: [Errno 2] No such file or directory: '../Resources/Chip.png'"
     ]
    }
   ],
   "source": [
    "# Save an image of the chart and print it to the screen\n",
    "plt.savefig(\"../Resources/Chip.png\")\n",
    "plt.show()"
   ]
  }
 ],
 "metadata": {
  "kernelspec": {
   "display_name": "dev",
   "language": "python",
   "name": "python3"
  },
  "language_info": {
   "codemirror_mode": {
    "name": "ipython",
    "version": 3
   },
   "file_extension": ".py",
   "mimetype": "text/x-python",
   "name": "python",
   "nbconvert_exporter": "python",
   "pygments_lexer": "ipython3",
   "version": "3.10.14"
  }
 },
 "nbformat": 4,
 "nbformat_minor": 2
}

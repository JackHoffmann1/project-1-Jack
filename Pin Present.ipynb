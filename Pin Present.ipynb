{
 "cells": [
  {
   "cell_type": "code",
   "execution_count": 8,
   "metadata": {},
   "outputs": [],
   "source": [
    "%matplotlib widget\n",
    "\n",
    "# Import dependencies\n",
    "import matplotlib.pyplot as plt\n",
    "import numpy as np\n",
    "import pandas as pd"
   ]
  },
  {
   "cell_type": "code",
   "execution_count": 9,
   "metadata": {},
   "outputs": [
    {
     "data": {
      "text/html": [
       "<div>\n",
       "<style scoped>\n",
       "    .dataframe tbody tr th:only-of-type {\n",
       "        vertical-align: middle;\n",
       "    }\n",
       "\n",
       "    .dataframe tbody tr th {\n",
       "        vertical-align: top;\n",
       "    }\n",
       "\n",
       "    .dataframe thead th {\n",
       "        text-align: right;\n",
       "    }\n",
       "</style>\n",
       "<table border=\"1\" class=\"dataframe\">\n",
       "  <thead>\n",
       "    <tr style=\"text-align: right;\">\n",
       "      <th></th>\n",
       "      <th>Distance From Home</th>\n",
       "      <th>Distance From Last Transaction</th>\n",
       "      <th>Ratio to Median Purchase Price</th>\n",
       "      <th>Repeat Retailer</th>\n",
       "      <th>Used Chip</th>\n",
       "      <th>Used Pin Number</th>\n",
       "      <th>Online Order</th>\n",
       "      <th>Fraud</th>\n",
       "    </tr>\n",
       "  </thead>\n",
       "  <tbody>\n",
       "    <tr>\n",
       "      <th>0</th>\n",
       "      <td>57.88</td>\n",
       "      <td>0.31</td>\n",
       "      <td>1.95</td>\n",
       "      <td>1</td>\n",
       "      <td>Chip</td>\n",
       "      <td>No Pin</td>\n",
       "      <td>0</td>\n",
       "      <td>Not Fraud</td>\n",
       "    </tr>\n",
       "    <tr>\n",
       "      <th>1</th>\n",
       "      <td>10.83</td>\n",
       "      <td>0.18</td>\n",
       "      <td>1.29</td>\n",
       "      <td>1</td>\n",
       "      <td>No Chip</td>\n",
       "      <td>No Pin</td>\n",
       "      <td>0</td>\n",
       "      <td>Not Fraud</td>\n",
       "    </tr>\n",
       "    <tr>\n",
       "      <th>2</th>\n",
       "      <td>5.09</td>\n",
       "      <td>0.81</td>\n",
       "      <td>0.43</td>\n",
       "      <td>1</td>\n",
       "      <td>No Chip</td>\n",
       "      <td>No Pin</td>\n",
       "      <td>1</td>\n",
       "      <td>Not Fraud</td>\n",
       "    </tr>\n",
       "    <tr>\n",
       "      <th>3</th>\n",
       "      <td>2.25</td>\n",
       "      <td>5.60</td>\n",
       "      <td>0.36</td>\n",
       "      <td>1</td>\n",
       "      <td>Chip</td>\n",
       "      <td>No Pin</td>\n",
       "      <td>1</td>\n",
       "      <td>Not Fraud</td>\n",
       "    </tr>\n",
       "    <tr>\n",
       "      <th>4</th>\n",
       "      <td>44.19</td>\n",
       "      <td>0.57</td>\n",
       "      <td>2.22</td>\n",
       "      <td>1</td>\n",
       "      <td>Chip</td>\n",
       "      <td>No Pin</td>\n",
       "      <td>1</td>\n",
       "      <td>Not Fraud</td>\n",
       "    </tr>\n",
       "  </tbody>\n",
       "</table>\n",
       "</div>"
      ],
      "text/plain": [
       "   Distance From Home  Distance From Last Transaction  \\\n",
       "0               57.88                            0.31   \n",
       "1               10.83                            0.18   \n",
       "2                5.09                            0.81   \n",
       "3                2.25                            5.60   \n",
       "4               44.19                            0.57   \n",
       "\n",
       "   Ratio to Median Purchase Price  Repeat Retailer Used Chip Used Pin Number  \\\n",
       "0                            1.95                1      Chip          No Pin   \n",
       "1                            1.29                1   No Chip          No Pin   \n",
       "2                            0.43                1   No Chip          No Pin   \n",
       "3                            0.36                1      Chip          No Pin   \n",
       "4                            2.22                1      Chip          No Pin   \n",
       "\n",
       "   Online Order      Fraud  \n",
       "0             0  Not Fraud  \n",
       "1             0  Not Fraud  \n",
       "2             1  Not Fraud  \n",
       "3             1  Not Fraud  \n",
       "4             1  Not Fraud  "
      ]
     },
     "execution_count": 9,
     "metadata": {},
     "output_type": "execute_result"
    }
   ],
   "source": [
    "# Load in csv and replace column integers\n",
    "card_df = pd.read_csv(\"main\\Resources\\cleaned_card_data.csv\")\n",
    "card_df['Used Chip'].replace(1, 'Chip', inplace=True)\n",
    "card_df['Used Chip'].replace(0, 'No Chip', inplace=True)\n",
    "card_df['Fraud'].replace(1, 'Fraud', inplace=True)\n",
    "card_df['Fraud'].replace(0, 'Not Fraud', inplace=True)\n",
    "card_df['Used Pin Number'].replace(1, 'Pin', inplace=True)\n",
    "card_df['Used Pin Number'].replace(0, 'No Pin', inplace=True)\n",
    "card_df.head()"
   ]
  },
  {
   "cell_type": "code",
   "execution_count": 10,
   "metadata": {},
   "outputs": [
    {
     "data": {
      "text/html": [
       "<div>\n",
       "<style scoped>\n",
       "    .dataframe tbody tr th:only-of-type {\n",
       "        vertical-align: middle;\n",
       "    }\n",
       "\n",
       "    .dataframe tbody tr th {\n",
       "        vertical-align: top;\n",
       "    }\n",
       "\n",
       "    .dataframe thead th {\n",
       "        text-align: right;\n",
       "    }\n",
       "</style>\n",
       "<table border=\"1\" class=\"dataframe\">\n",
       "  <thead>\n",
       "    <tr style=\"text-align: right;\">\n",
       "      <th></th>\n",
       "      <th>Fraud</th>\n",
       "      <th>Used Pin Number</th>\n",
       "    </tr>\n",
       "  </thead>\n",
       "  <tbody>\n",
       "    <tr>\n",
       "      <th>0</th>\n",
       "      <td>Not Fraud</td>\n",
       "      <td>No Pin</td>\n",
       "    </tr>\n",
       "    <tr>\n",
       "      <th>1</th>\n",
       "      <td>Not Fraud</td>\n",
       "      <td>No Pin</td>\n",
       "    </tr>\n",
       "    <tr>\n",
       "      <th>2</th>\n",
       "      <td>Not Fraud</td>\n",
       "      <td>No Pin</td>\n",
       "    </tr>\n",
       "    <tr>\n",
       "      <th>3</th>\n",
       "      <td>Not Fraud</td>\n",
       "      <td>No Pin</td>\n",
       "    </tr>\n",
       "    <tr>\n",
       "      <th>4</th>\n",
       "      <td>Not Fraud</td>\n",
       "      <td>No Pin</td>\n",
       "    </tr>\n",
       "  </tbody>\n",
       "</table>\n",
       "</div>"
      ],
      "text/plain": [
       "       Fraud Used Pin Number\n",
       "0  Not Fraud          No Pin\n",
       "1  Not Fraud          No Pin\n",
       "2  Not Fraud          No Pin\n",
       "3  Not Fraud          No Pin\n",
       "4  Not Fraud          No Pin"
      ]
     },
     "execution_count": 10,
     "metadata": {},
     "output_type": "execute_result"
    }
   ],
   "source": [
    "# Create Used Pin Number dataframe\n",
    "used_pin_df = card_df[[\"Fraud\",\"Used Pin Number\"]]\n",
    "used_pin_df.head()"
   ]
  },
  {
   "cell_type": "code",
   "execution_count": 11,
   "metadata": {},
   "outputs": [
    {
     "data": {
      "text/html": [
       "<div>\n",
       "<style scoped>\n",
       "    .dataframe tbody tr th:only-of-type {\n",
       "        vertical-align: middle;\n",
       "    }\n",
       "\n",
       "    .dataframe tbody tr th {\n",
       "        vertical-align: top;\n",
       "    }\n",
       "\n",
       "    .dataframe thead th {\n",
       "        text-align: right;\n",
       "    }\n",
       "</style>\n",
       "<table border=\"1\" class=\"dataframe\">\n",
       "  <thead>\n",
       "    <tr style=\"text-align: right;\">\n",
       "      <th></th>\n",
       "      <th>Fraud</th>\n",
       "      <th>Used Pin Number</th>\n",
       "    </tr>\n",
       "  </thead>\n",
       "  <tbody>\n",
       "    <tr>\n",
       "      <th>7</th>\n",
       "      <td>Not Fraud</td>\n",
       "      <td>Pin</td>\n",
       "    </tr>\n",
       "    <tr>\n",
       "      <th>15</th>\n",
       "      <td>Not Fraud</td>\n",
       "      <td>Pin</td>\n",
       "    </tr>\n",
       "    <tr>\n",
       "      <th>23</th>\n",
       "      <td>Not Fraud</td>\n",
       "      <td>Pin</td>\n",
       "    </tr>\n",
       "    <tr>\n",
       "      <th>37</th>\n",
       "      <td>Not Fraud</td>\n",
       "      <td>Pin</td>\n",
       "    </tr>\n",
       "    <tr>\n",
       "      <th>51</th>\n",
       "      <td>Not Fraud</td>\n",
       "      <td>Pin</td>\n",
       "    </tr>\n",
       "  </tbody>\n",
       "</table>\n",
       "</div>"
      ],
      "text/plain": [
       "        Fraud Used Pin Number\n",
       "7   Not Fraud             Pin\n",
       "15  Not Fraud             Pin\n",
       "23  Not Fraud             Pin\n",
       "37  Not Fraud             Pin\n",
       "51  Not Fraud             Pin"
      ]
     },
     "execution_count": 11,
     "metadata": {},
     "output_type": "execute_result"
    }
   ],
   "source": [
    "fraud_pin_df = used_pin_df.loc[(used_pin_df[\"Used Pin Number\"] == \"Pin\"), :]\n",
    "fraud_pin_df.head()"
   ]
  },
  {
   "cell_type": "code",
   "execution_count": 12,
   "metadata": {},
   "outputs": [
    {
     "data": {
      "text/plain": [
       "Fraud      Used Pin Number\n",
       "Fraud      Pin                   273\n",
       "Not Fraud  Pin                100335\n",
       "Name: count, dtype: int64"
      ]
     },
     "execution_count": 12,
     "metadata": {},
     "output_type": "execute_result"
    }
   ],
   "source": [
    "grouped_pin_df = fraud_pin_df.groupby(['Fraud', 'Used Pin Number']).value_counts()\n",
    "grouped_pin_df.head()"
   ]
  },
  {
   "cell_type": "code",
   "execution_count": 15,
   "metadata": {},
   "outputs": [
    {
     "data": {
      "application/vnd.jupyter.widget-view+json": {
       "model_id": "9fbc0e3a6d0d454f8571e3ed84f431cf",
       "version_major": 2,
       "version_minor": 0
      },
      "image/png": "[encoded data removed]",
      "text/html": [
       "\n",
       "            <div style=\"display: inline-block;\">\n",
       "                <div class=\"jupyter-widgets widget-label\" style=\"text-align: center;\">\n",
       "                    Figure 1\n",
       "                </div>\n",
       "                <img src='data:image/png;base64,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' width=500.0/>\n",
       "            </div>\n",
       "        "
      ],
      "text/plain": [
       "Canvas(toolbar=Toolbar(toolitems=[('Home', 'Reset original view', 'home', 'home'), ('Back', 'Back to previous …"
      ]
     },
     "metadata": {},
     "output_type": "display_data"
    }
   ],
   "source": [
    "pin_use_plot = grouped_pin_df.plot(kind=\"bar\", figsize=(5,5))\n",
    "plt.title(\"Card Present - Pin Used\")\n",
    "plt.ylabel(\"Transactions\")\n",
    "plt.gca().set_xticklabels(['Pinned Fraud', 'Pinned Not Fraud'])\n",
    "plt.xticks(rotation=0)\n",
    "plt.xlabel(\"Pin Use\", rotation=0)\n",
    "plt.show()\n",
    "plt.tight_layout()"
   ]
  }
 ],
 "metadata": {
  "kernelspec": {
   "display_name": "dev",
   "language": "python",
   "name": "python3"
  },
  "language_info": {
   "codemirror_mode": {
    "name": "ipython",
    "version": 3
   },
   "file_extension": ".py",
   "mimetype": "text/x-python",
   "name": "python",
   "nbconvert_exporter": "python",
   "pygments_lexer": "ipython3",
   "version": "3.10.14"
  }
 },
 "nbformat": 4,
 "nbformat_minor": 2
}

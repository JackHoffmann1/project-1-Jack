{
 "cells": [
  {
   "cell_type": "markdown",
   "metadata": {},
   "source": [
    "### Analyzing the credit card PIN usage in preventing fraudulent transations"
   ]
  },
  {
   "cell_type": "code",
   "execution_count": 7,
   "metadata": {},
   "outputs": [],
   "source": [
    "# Import dependencies\n",
    "import matplotlib.pyplot as plt\n",
    "import numpy as np\n",
    "import pandas as pd"
   ]
  },
  {
   "cell_type": "code",
   "execution_count": 8,
   "metadata": {},
   "outputs": [
    {
     "data": {
      "text/html": [
       "<div>\n",
       "<style scoped>\n",
       "    .dataframe tbody tr th:only-of-type {\n",
       "        vertical-align: middle;\n",
       "    }\n",
       "\n",
       "    .dataframe tbody tr th {\n",
       "        vertical-align: top;\n",
       "    }\n",
       "\n",
       "    .dataframe thead th {\n",
       "        text-align: right;\n",
       "    }\n",
       "</style>\n",
       "<table border=\"1\" class=\"dataframe\">\n",
       "  <thead>\n",
       "    <tr style=\"text-align: right;\">\n",
       "      <th></th>\n",
       "      <th>Distance From Home</th>\n",
       "      <th>Distance From Last Transaction</th>\n",
       "      <th>Ratio to Median Purchase Price</th>\n",
       "      <th>Repeat Retailer</th>\n",
       "      <th>Used Chip</th>\n",
       "      <th>Used Pin Number</th>\n",
       "      <th>Online Order</th>\n",
       "      <th>Fraud</th>\n",
       "    </tr>\n",
       "  </thead>\n",
       "  <tbody>\n",
       "    <tr>\n",
       "      <th>0</th>\n",
       "      <td>57.88</td>\n",
       "      <td>0.31</td>\n",
       "      <td>1.95</td>\n",
       "      <td>1</td>\n",
       "      <td>Chip</td>\n",
       "      <td>No Pin</td>\n",
       "      <td>0</td>\n",
       "      <td>Not Fraud</td>\n",
       "    </tr>\n",
       "    <tr>\n",
       "      <th>1</th>\n",
       "      <td>10.83</td>\n",
       "      <td>0.18</td>\n",
       "      <td>1.29</td>\n",
       "      <td>1</td>\n",
       "      <td>No Chip</td>\n",
       "      <td>No Pin</td>\n",
       "      <td>0</td>\n",
       "      <td>Not Fraud</td>\n",
       "    </tr>\n",
       "    <tr>\n",
       "      <th>2</th>\n",
       "      <td>5.09</td>\n",
       "      <td>0.81</td>\n",
       "      <td>0.43</td>\n",
       "      <td>1</td>\n",
       "      <td>No Chip</td>\n",
       "      <td>No Pin</td>\n",
       "      <td>1</td>\n",
       "      <td>Not Fraud</td>\n",
       "    </tr>\n",
       "    <tr>\n",
       "      <th>3</th>\n",
       "      <td>2.25</td>\n",
       "      <td>5.60</td>\n",
       "      <td>0.36</td>\n",
       "      <td>1</td>\n",
       "      <td>Chip</td>\n",
       "      <td>No Pin</td>\n",
       "      <td>1</td>\n",
       "      <td>Not Fraud</td>\n",
       "    </tr>\n",
       "    <tr>\n",
       "      <th>4</th>\n",
       "      <td>44.19</td>\n",
       "      <td>0.57</td>\n",
       "      <td>2.22</td>\n",
       "      <td>1</td>\n",
       "      <td>Chip</td>\n",
       "      <td>No Pin</td>\n",
       "      <td>1</td>\n",
       "      <td>Not Fraud</td>\n",
       "    </tr>\n",
       "  </tbody>\n",
       "</table>\n",
       "</div>"
      ],
      "text/plain": [
       "   Distance From Home  Distance From Last Transaction  \\\n",
       "0               57.88                            0.31   \n",
       "1               10.83                            0.18   \n",
       "2                5.09                            0.81   \n",
       "3                2.25                            5.60   \n",
       "4               44.19                            0.57   \n",
       "\n",
       "   Ratio to Median Purchase Price  Repeat Retailer Used Chip Used Pin Number  \\\n",
       "0                            1.95                1      Chip          No Pin   \n",
       "1                            1.29                1   No Chip          No Pin   \n",
       "2                            0.43                1   No Chip          No Pin   \n",
       "3                            0.36                1      Chip          No Pin   \n",
       "4                            2.22                1      Chip          No Pin   \n",
       "\n",
       "   Online Order      Fraud  \n",
       "0             0  Not Fraud  \n",
       "1             0  Not Fraud  \n",
       "2             1  Not Fraud  \n",
       "3             1  Not Fraud  \n",
       "4             1  Not Fraud  "
      ]
     },
     "execution_count": 8,
     "metadata": {},
     "output_type": "execute_result"
    }
   ],
   "source": [
    "# Load in csv and replace column integers\n",
    "card_df = pd.read_csv(\"main\\Resources\\cleaned_card_data.csv\")\n",
    "card_df['Used Chip'].replace(1, 'Chip', inplace=True)\n",
    "card_df['Used Chip'].replace(0, 'No Chip', inplace=True)\n",
    "card_df['Fraud'].replace(1, 'Fraud', inplace=True)\n",
    "card_df['Fraud'].replace(0, 'Not Fraud', inplace=True)\n",
    "card_df['Used Pin Number'].replace(1, 'Pin', inplace=True)\n",
    "card_df['Used Pin Number'].replace(0, 'No Pin', inplace=True)\n",
    "card_df.head()"
   ]
  },
  {
   "cell_type": "code",
   "execution_count": 9,
   "metadata": {},
   "outputs": [
    {
     "data": {
      "text/html": [
       "<div>\n",
       "<style scoped>\n",
       "    .dataframe tbody tr th:only-of-type {\n",
       "        vertical-align: middle;\n",
       "    }\n",
       "\n",
       "    .dataframe tbody tr th {\n",
       "        vertical-align: top;\n",
       "    }\n",
       "\n",
       "    .dataframe thead th {\n",
       "        text-align: right;\n",
       "    }\n",
       "</style>\n",
       "<table border=\"1\" class=\"dataframe\">\n",
       "  <thead>\n",
       "    <tr style=\"text-align: right;\">\n",
       "      <th></th>\n",
       "      <th>Fraud</th>\n",
       "      <th>Used Pin Number</th>\n",
       "    </tr>\n",
       "  </thead>\n",
       "  <tbody>\n",
       "    <tr>\n",
       "      <th>0</th>\n",
       "      <td>Not Fraud</td>\n",
       "      <td>No Pin</td>\n",
       "    </tr>\n",
       "    <tr>\n",
       "      <th>1</th>\n",
       "      <td>Not Fraud</td>\n",
       "      <td>No Pin</td>\n",
       "    </tr>\n",
       "    <tr>\n",
       "      <th>2</th>\n",
       "      <td>Not Fraud</td>\n",
       "      <td>No Pin</td>\n",
       "    </tr>\n",
       "    <tr>\n",
       "      <th>3</th>\n",
       "      <td>Not Fraud</td>\n",
       "      <td>No Pin</td>\n",
       "    </tr>\n",
       "    <tr>\n",
       "      <th>4</th>\n",
       "      <td>Not Fraud</td>\n",
       "      <td>No Pin</td>\n",
       "    </tr>\n",
       "  </tbody>\n",
       "</table>\n",
       "</div>"
      ],
      "text/plain": [
       "       Fraud Used Pin Number\n",
       "0  Not Fraud          No Pin\n",
       "1  Not Fraud          No Pin\n",
       "2  Not Fraud          No Pin\n",
       "3  Not Fraud          No Pin\n",
       "4  Not Fraud          No Pin"
      ]
     },
     "execution_count": 9,
     "metadata": {},
     "output_type": "execute_result"
    }
   ],
   "source": [
    "# Create Used Pin Number dataframe\n",
    "used_pin_df = card_df[[\"Fraud\",\"Used Pin Number\"]]\n",
    "used_pin_df.head()"
   ]
  },
  {
   "cell_type": "code",
   "execution_count": 10,
   "metadata": {},
   "outputs": [
    {
     "data": {
      "text/html": [
       "<div>\n",
       "<style scoped>\n",
       "    .dataframe tbody tr th:only-of-type {\n",
       "        vertical-align: middle;\n",
       "    }\n",
       "\n",
       "    .dataframe tbody tr th {\n",
       "        vertical-align: top;\n",
       "    }\n",
       "\n",
       "    .dataframe thead th {\n",
       "        text-align: right;\n",
       "    }\n",
       "</style>\n",
       "<table border=\"1\" class=\"dataframe\">\n",
       "  <thead>\n",
       "    <tr style=\"text-align: right;\">\n",
       "      <th></th>\n",
       "      <th>Fraud</th>\n",
       "      <th>Used Pin Number</th>\n",
       "    </tr>\n",
       "  </thead>\n",
       "  <tbody>\n",
       "    <tr>\n",
       "      <th>7</th>\n",
       "      <td>Not Fraud</td>\n",
       "      <td>Pin</td>\n",
       "    </tr>\n",
       "    <tr>\n",
       "      <th>15</th>\n",
       "      <td>Not Fraud</td>\n",
       "      <td>Pin</td>\n",
       "    </tr>\n",
       "    <tr>\n",
       "      <th>23</th>\n",
       "      <td>Not Fraud</td>\n",
       "      <td>Pin</td>\n",
       "    </tr>\n",
       "    <tr>\n",
       "      <th>37</th>\n",
       "      <td>Not Fraud</td>\n",
       "      <td>Pin</td>\n",
       "    </tr>\n",
       "    <tr>\n",
       "      <th>51</th>\n",
       "      <td>Not Fraud</td>\n",
       "      <td>Pin</td>\n",
       "    </tr>\n",
       "  </tbody>\n",
       "</table>\n",
       "</div>"
      ],
      "text/plain": [
       "        Fraud Used Pin Number\n",
       "7   Not Fraud             Pin\n",
       "15  Not Fraud             Pin\n",
       "23  Not Fraud             Pin\n",
       "37  Not Fraud             Pin\n",
       "51  Not Fraud             Pin"
      ]
     },
     "execution_count": 10,
     "metadata": {},
     "output_type": "execute_result"
    }
   ],
   "source": [
    "fraud_pin_df = used_pin_df.loc[(used_pin_df[\"Used Pin Number\"] == \"Pin\"), :]\n",
    "fraud_pin_df.head()"
   ]
  },
  {
   "cell_type": "code",
   "execution_count": 11,
   "metadata": {},
   "outputs": [
    {
     "data": {
      "text/plain": [
       "Fraud      Used Pin Number\n",
       "Fraud      Pin                   273\n",
       "Not Fraud  Pin                100335\n",
       "Name: count, dtype: int64"
      ]
     },
     "execution_count": 11,
     "metadata": {},
     "output_type": "execute_result"
    }
   ],
   "source": [
    "grouped_pin_df = fraud_pin_df.groupby(['Fraud', 'Used Pin Number']).value_counts()\n",
    "grouped_pin_df.head()"
   ]
  },
  {
   "cell_type": "code",
   "execution_count": 12,
   "metadata": {},
   "outputs": [
    {
     "data": {
      "application/vnd.jupyter.widget-view+json": {
       "model_id": "b0d00d7be9f64a8daeeecb5f3625985b",
       "version_major": 2,
       "version_minor": 0
      },
      "image/png": "[encoded data removed]",
      "text/html": [
       "\n",
       "            <div style=\"display: inline-block;\">\n",
       "                <div class=\"jupyter-widgets widget-label\" style=\"text-align: center;\">\n",
       "                    Figure 1\n",
       "                </div>\n",
       "                <img src='data:image/png;base64,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' width=500.0/>\n",
       "            </div>\n",
       "        "
      ],
      "text/plain": [
       "Canvas(toolbar=Toolbar(toolitems=[('Home', 'Reset original view', 'home', 'home'), ('Back', 'Back to previous …"
      ]
     },
     "metadata": {},
     "output_type": "display_data"
    }
   ],
   "source": [
    "pin_use_plot = grouped_pin_df.plot(kind=\"bar\", figsize=(5,5))\n",
    "plt.title(\"Card Present - Pin Used\")\n",
    "plt.ylabel(\"Transactions\")\n",
    "plt.gca().set_xticklabels(['Pinned Fraud', 'Pinned Not Fraud'])\n",
    "plt.xticks(rotation=0)\n",
    "plt.xlabel(\"Pin Use\", rotation=0)\n",
    "plt.show()\n",
    "plt.tight_layout()"
   ]
  }
 ],
 "metadata": {
  "kernelspec": {
   "display_name": "dev",
   "language": "python",
   "name": "python3"
  },
  "language_info": {
   "codemirror_mode": {
    "name": "ipython",
    "version": 3
   },
   "file_extension": ".py",
   "mimetype": "text/x-python",
   "name": "python",
   "nbconvert_exporter": "python",
   "pygments_lexer": "ipython3",
   "version": "3.10.14"
  }
 },
 "nbformat": 4,
 "nbformat_minor": 2
}

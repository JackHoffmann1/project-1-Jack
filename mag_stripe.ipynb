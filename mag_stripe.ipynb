{
 "cells": [
  {
   "cell_type": "markdown",
   "metadata": {},
   "source": [
    "### Analyzing the credit card magnetric stripe usage in preventing fraudulent transations"
   ]
  },
  {
   "cell_type": "code",
   "execution_count": 2,
   "metadata": {},
   "outputs": [],
   "source": [
    "%matplotlib widget\n",
    "\n",
    "# Import dependencies\n",
    "import matplotlib.pyplot as plt\n",
    "import numpy as np\n",
    "import pandas as pd"
   ]
  },
  {
   "cell_type": "code",
   "execution_count": 3,
   "metadata": {},
   "outputs": [
    {
     "data": {
      "text/html": [
       "<div>\n",
       "<style scoped>\n",
       "    .dataframe tbody tr th:only-of-type {\n",
       "        vertical-align: middle;\n",
       "    }\n",
       "\n",
       "    .dataframe tbody tr th {\n",
       "        vertical-align: top;\n",
       "    }\n",
       "\n",
       "    .dataframe thead th {\n",
       "        text-align: right;\n",
       "    }\n",
       "</style>\n",
       "<table border=\"1\" class=\"dataframe\">\n",
       "  <thead>\n",
       "    <tr style=\"text-align: right;\">\n",
       "      <th></th>\n",
       "      <th>Distance From Home</th>\n",
       "      <th>Distance From Last Transaction</th>\n",
       "      <th>Ratio to Median Purchase Price</th>\n",
       "      <th>Repeat Retailer</th>\n",
       "      <th>Used Chip</th>\n",
       "      <th>Used Pin Number</th>\n",
       "      <th>Online Order</th>\n",
       "      <th>Fraud</th>\n",
       "    </tr>\n",
       "  </thead>\n",
       "  <tbody>\n",
       "    <tr>\n",
       "      <th>0</th>\n",
       "      <td>57.88</td>\n",
       "      <td>0.31</td>\n",
       "      <td>1.95</td>\n",
       "      <td>1</td>\n",
       "      <td>Chip</td>\n",
       "      <td>No Pin</td>\n",
       "      <td>0</td>\n",
       "      <td>Not Fraud</td>\n",
       "    </tr>\n",
       "    <tr>\n",
       "      <th>1</th>\n",
       "      <td>10.83</td>\n",
       "      <td>0.18</td>\n",
       "      <td>1.29</td>\n",
       "      <td>1</td>\n",
       "      <td>No Chip</td>\n",
       "      <td>No Pin</td>\n",
       "      <td>0</td>\n",
       "      <td>Not Fraud</td>\n",
       "    </tr>\n",
       "    <tr>\n",
       "      <th>2</th>\n",
       "      <td>5.09</td>\n",
       "      <td>0.81</td>\n",
       "      <td>0.43</td>\n",
       "      <td>1</td>\n",
       "      <td>No Chip</td>\n",
       "      <td>No Pin</td>\n",
       "      <td>1</td>\n",
       "      <td>Not Fraud</td>\n",
       "    </tr>\n",
       "    <tr>\n",
       "      <th>3</th>\n",
       "      <td>2.25</td>\n",
       "      <td>5.60</td>\n",
       "      <td>0.36</td>\n",
       "      <td>1</td>\n",
       "      <td>Chip</td>\n",
       "      <td>No Pin</td>\n",
       "      <td>1</td>\n",
       "      <td>Not Fraud</td>\n",
       "    </tr>\n",
       "    <tr>\n",
       "      <th>4</th>\n",
       "      <td>44.19</td>\n",
       "      <td>0.57</td>\n",
       "      <td>2.22</td>\n",
       "      <td>1</td>\n",
       "      <td>Chip</td>\n",
       "      <td>No Pin</td>\n",
       "      <td>1</td>\n",
       "      <td>Not Fraud</td>\n",
       "    </tr>\n",
       "  </tbody>\n",
       "</table>\n",
       "</div>"
      ],
      "text/plain": [
       "   Distance From Home  Distance From Last Transaction  \\\n",
       "0               57.88                            0.31   \n",
       "1               10.83                            0.18   \n",
       "2                5.09                            0.81   \n",
       "3                2.25                            5.60   \n",
       "4               44.19                            0.57   \n",
       "\n",
       "   Ratio to Median Purchase Price  Repeat Retailer Used Chip Used Pin Number  \\\n",
       "0                            1.95                1      Chip          No Pin   \n",
       "1                            1.29                1   No Chip          No Pin   \n",
       "2                            0.43                1   No Chip          No Pin   \n",
       "3                            0.36                1      Chip          No Pin   \n",
       "4                            2.22                1      Chip          No Pin   \n",
       "\n",
       "   Online Order      Fraud  \n",
       "0             0  Not Fraud  \n",
       "1             0  Not Fraud  \n",
       "2             1  Not Fraud  \n",
       "3             1  Not Fraud  \n",
       "4             1  Not Fraud  "
      ]
     },
     "execution_count": 3,
     "metadata": {},
     "output_type": "execute_result"
    }
   ],
   "source": [
    "# Load in csv and replace column integers\n",
    "card_df = pd.read_csv(\"main\\Resources\\cleaned_card_data.csv\")\n",
    "card_df['Used Chip'].replace(1, 'Chip', inplace=True)\n",
    "card_df['Used Chip'].replace(0, 'No Chip', inplace=True)\n",
    "card_df['Fraud'].replace(1, 'Fraud', inplace=True)\n",
    "card_df['Fraud'].replace(0, 'Not Fraud', inplace=True)\n",
    "card_df['Used Pin Number'].replace(1, 'Pin', inplace=True)\n",
    "card_df['Used Pin Number'].replace(0, 'No Pin', inplace=True)\n",
    "card_df.head()"
   ]
  },
  {
   "cell_type": "code",
   "execution_count": 4,
   "metadata": {},
   "outputs": [
    {
     "data": {
      "text/html": [
       "<div>\n",
       "<style scoped>\n",
       "    .dataframe tbody tr th:only-of-type {\n",
       "        vertical-align: middle;\n",
       "    }\n",
       "\n",
       "    .dataframe tbody tr th {\n",
       "        vertical-align: top;\n",
       "    }\n",
       "\n",
       "    .dataframe thead th {\n",
       "        text-align: right;\n",
       "    }\n",
       "</style>\n",
       "<table border=\"1\" class=\"dataframe\">\n",
       "  <thead>\n",
       "    <tr style=\"text-align: right;\">\n",
       "      <th></th>\n",
       "      <th>Fraud</th>\n",
       "      <th>Used Chip</th>\n",
       "      <th>Used Pin Number</th>\n",
       "    </tr>\n",
       "  </thead>\n",
       "  <tbody>\n",
       "    <tr>\n",
       "      <th>0</th>\n",
       "      <td>Not Fraud</td>\n",
       "      <td>Chip</td>\n",
       "      <td>No Pin</td>\n",
       "    </tr>\n",
       "    <tr>\n",
       "      <th>1</th>\n",
       "      <td>Not Fraud</td>\n",
       "      <td>No Chip</td>\n",
       "      <td>No Pin</td>\n",
       "    </tr>\n",
       "    <tr>\n",
       "      <th>2</th>\n",
       "      <td>Not Fraud</td>\n",
       "      <td>No Chip</td>\n",
       "      <td>No Pin</td>\n",
       "    </tr>\n",
       "    <tr>\n",
       "      <th>3</th>\n",
       "      <td>Not Fraud</td>\n",
       "      <td>Chip</td>\n",
       "      <td>No Pin</td>\n",
       "    </tr>\n",
       "    <tr>\n",
       "      <th>4</th>\n",
       "      <td>Not Fraud</td>\n",
       "      <td>Chip</td>\n",
       "      <td>No Pin</td>\n",
       "    </tr>\n",
       "  </tbody>\n",
       "</table>\n",
       "</div>"
      ],
      "text/plain": [
       "       Fraud Used Chip Used Pin Number\n",
       "0  Not Fraud      Chip          No Pin\n",
       "1  Not Fraud   No Chip          No Pin\n",
       "2  Not Fraud   No Chip          No Pin\n",
       "3  Not Fraud      Chip          No Pin\n",
       "4  Not Fraud      Chip          No Pin"
      ]
     },
     "execution_count": 4,
     "metadata": {},
     "output_type": "execute_result"
    }
   ],
   "source": [
    "# Create Used Pin Number dataframe\n",
    "no_measure_df = card_df[[\"Fraud\",\"Used Chip\",\"Used Pin Number\"]]\n",
    "no_measure_df.head()"
   ]
  },
  {
   "cell_type": "code",
   "execution_count": 5,
   "metadata": {},
   "outputs": [
    {
     "data": {
      "text/html": [
       "<div>\n",
       "<style scoped>\n",
       "    .dataframe tbody tr th:only-of-type {\n",
       "        vertical-align: middle;\n",
       "    }\n",
       "\n",
       "    .dataframe tbody tr th {\n",
       "        vertical-align: top;\n",
       "    }\n",
       "\n",
       "    .dataframe thead th {\n",
       "        text-align: right;\n",
       "    }\n",
       "</style>\n",
       "<table border=\"1\" class=\"dataframe\">\n",
       "  <thead>\n",
       "    <tr style=\"text-align: right;\">\n",
       "      <th></th>\n",
       "      <th>Fraud</th>\n",
       "      <th>Used Chip</th>\n",
       "      <th>Used Pin Number</th>\n",
       "    </tr>\n",
       "  </thead>\n",
       "  <tbody>\n",
       "    <tr>\n",
       "      <th>1</th>\n",
       "      <td>Not Fraud</td>\n",
       "      <td>No Chip</td>\n",
       "      <td>No Pin</td>\n",
       "    </tr>\n",
       "    <tr>\n",
       "      <th>2</th>\n",
       "      <td>Not Fraud</td>\n",
       "      <td>No Chip</td>\n",
       "      <td>No Pin</td>\n",
       "    </tr>\n",
       "    <tr>\n",
       "      <th>5</th>\n",
       "      <td>Not Fraud</td>\n",
       "      <td>No Chip</td>\n",
       "      <td>No Pin</td>\n",
       "    </tr>\n",
       "    <tr>\n",
       "      <th>6</th>\n",
       "      <td>Not Fraud</td>\n",
       "      <td>No Chip</td>\n",
       "      <td>No Pin</td>\n",
       "    </tr>\n",
       "    <tr>\n",
       "      <th>8</th>\n",
       "      <td>Not Fraud</td>\n",
       "      <td>No Chip</td>\n",
       "      <td>No Pin</td>\n",
       "    </tr>\n",
       "  </tbody>\n",
       "</table>\n",
       "</div>"
      ],
      "text/plain": [
       "       Fraud Used Chip Used Pin Number\n",
       "1  Not Fraud   No Chip          No Pin\n",
       "2  Not Fraud   No Chip          No Pin\n",
       "5  Not Fraud   No Chip          No Pin\n",
       "6  Not Fraud   No Chip          No Pin\n",
       "8  Not Fraud   No Chip          No Pin"
      ]
     },
     "execution_count": 5,
     "metadata": {},
     "output_type": "execute_result"
    }
   ],
   "source": [
    "fraud_df = no_measure_df.loc[(no_measure_df['Used Pin Number'] == \"No Pin\") & (no_measure_df['Used Chip'] == \"No Chip\"), :]\n",
    "fraud_df.head()"
   ]
  },
  {
   "cell_type": "code",
   "execution_count": 6,
   "metadata": {},
   "outputs": [
    {
     "data": {
      "text/plain": [
       "Fraud      Used Chip  Used Pin Number\n",
       "Fraud      No Chip    No Pin              64729\n",
       "Not Fraud  No Chip    No Pin             519317\n",
       "Name: count, dtype: int64"
      ]
     },
     "execution_count": 6,
     "metadata": {},
     "output_type": "execute_result"
    }
   ],
   "source": [
    "grouped_fraud_df = fraud_df.groupby(['Fraud']).value_counts()\n",
    "grouped_fraud_df.head()"
   ]
  },
  {
   "cell_type": "code",
   "execution_count": 7,
   "metadata": {},
   "outputs": [
    {
     "data": {
      "application/vnd.jupyter.widget-view+json": {
       "model_id": "d00e69db4cb44b4bb4d821418e25c364",
       "version_major": 2,
       "version_minor": 0
      },
      "image/png": "[encoded data removed]",
      "text/html": [
       "\n",
       "            <div style=\"display: inline-block;\">\n",
       "                <div class=\"jupyter-widgets widget-label\" style=\"text-align: center;\">\n",
       "                    Figure\n",
       "                </div>\n",
       "                <img src='data:image/png;base64,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' width=500.0/>\n",
       "            </div>\n",
       "        "
      ],
      "text/plain": [
       "Canvas(toolbar=Toolbar(toolitems=[('Home', 'Reset original view', 'home', 'home'), ('Back', 'Back to previous …"
      ]
     },
     "metadata": {},
     "output_type": "display_data"
    }
   ],
   "source": [
    "pin_use_plot = grouped_fraud_df.plot(kind=\"bar\", figsize=(5,5))\n",
    "plt.title(\"Card Present - Mag Stripe Only\")\n",
    "plt.ylabel(\"Transactions\")\n",
    "plt.gca().set_xticklabels(['Mag Fraud', 'Mag Not Fraud'])\n",
    "plt.xticks(rotation=0)\n",
    "plt.xlabel(\"Mag Stripe\", rotation=0)\n",
    "plt.show()\n",
    "plt.tight_layout()"
   ]
  }
 ],
 "metadata": {
  "kernelspec": {
   "display_name": "dev",
   "language": "python",
   "name": "python3"
  },
  "language_info": {
   "codemirror_mode": {
    "name": "ipython",
    "version": 3
   },
   "file_extension": ".py",
   "mimetype": "text/x-python",
   "name": "python",
   "nbconvert_exporter": "python",
   "pygments_lexer": "ipython3",
   "version": "3.10.14"
  }
 },
 "nbformat": 4,
 "nbformat_minor": 2
}

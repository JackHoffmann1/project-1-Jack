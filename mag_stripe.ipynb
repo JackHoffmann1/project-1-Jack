{
 "cells": [
  {
   "cell_type": "code",
   "execution_count": 1,
   "metadata": {},
   "outputs": [],
   "source": [
    "%matplotlib widget\n",
    "\n",
    "# Import dependencies\n",
    "import matplotlib.pyplot as plt\n",
    "import numpy as np\n",
    "import pandas as pd"
   ]
  },
  {
   "cell_type": "code",
   "execution_count": 2,
   "metadata": {},
   "outputs": [
    {
     "data": {
      "text/html": [
       "<div>\n",
       "<style scoped>\n",
       "    .dataframe tbody tr th:only-of-type {\n",
       "        vertical-align: middle;\n",
       "    }\n",
       "\n",
       "    .dataframe tbody tr th {\n",
       "        vertical-align: top;\n",
       "    }\n",
       "\n",
       "    .dataframe thead th {\n",
       "        text-align: right;\n",
       "    }\n",
       "</style>\n",
       "<table border=\"1\" class=\"dataframe\">\n",
       "  <thead>\n",
       "    <tr style=\"text-align: right;\">\n",
       "      <th></th>\n",
       "      <th>Distance From Home</th>\n",
       "      <th>Distance From Last Transaction</th>\n",
       "      <th>Ratio to Median Purchase Price</th>\n",
       "      <th>Repeat Retailer</th>\n",
       "      <th>Used Chip</th>\n",
       "      <th>Used Pin Number</th>\n",
       "      <th>Online Order</th>\n",
       "      <th>Fraud</th>\n",
       "    </tr>\n",
       "  </thead>\n",
       "  <tbody>\n",
       "    <tr>\n",
       "      <th>0</th>\n",
       "      <td>57.88</td>\n",
       "      <td>0.31</td>\n",
       "      <td>1.95</td>\n",
       "      <td>1</td>\n",
       "      <td>Chip</td>\n",
       "      <td>No Pin</td>\n",
       "      <td>0</td>\n",
       "      <td>Not Fraud</td>\n",
       "    </tr>\n",
       "    <tr>\n",
       "      <th>1</th>\n",
       "      <td>10.83</td>\n",
       "      <td>0.18</td>\n",
       "      <td>1.29</td>\n",
       "      <td>1</td>\n",
       "      <td>No Chip</td>\n",
       "      <td>No Pin</td>\n",
       "      <td>0</td>\n",
       "      <td>Not Fraud</td>\n",
       "    </tr>\n",
       "    <tr>\n",
       "      <th>2</th>\n",
       "      <td>5.09</td>\n",
       "      <td>0.81</td>\n",
       "      <td>0.43</td>\n",
       "      <td>1</td>\n",
       "      <td>No Chip</td>\n",
       "      <td>No Pin</td>\n",
       "      <td>1</td>\n",
       "      <td>Not Fraud</td>\n",
       "    </tr>\n",
       "    <tr>\n",
       "      <th>3</th>\n",
       "      <td>2.25</td>\n",
       "      <td>5.60</td>\n",
       "      <td>0.36</td>\n",
       "      <td>1</td>\n",
       "      <td>Chip</td>\n",
       "      <td>No Pin</td>\n",
       "      <td>1</td>\n",
       "      <td>Not Fraud</td>\n",
       "    </tr>\n",
       "    <tr>\n",
       "      <th>4</th>\n",
       "      <td>44.19</td>\n",
       "      <td>0.57</td>\n",
       "      <td>2.22</td>\n",
       "      <td>1</td>\n",
       "      <td>Chip</td>\n",
       "      <td>No Pin</td>\n",
       "      <td>1</td>\n",
       "      <td>Not Fraud</td>\n",
       "    </tr>\n",
       "  </tbody>\n",
       "</table>\n",
       "</div>"
      ],
      "text/plain": [
       "   Distance From Home  Distance From Last Transaction  \\\n",
       "0               57.88                            0.31   \n",
       "1               10.83                            0.18   \n",
       "2                5.09                            0.81   \n",
       "3                2.25                            5.60   \n",
       "4               44.19                            0.57   \n",
       "\n",
       "   Ratio to Median Purchase Price  Repeat Retailer Used Chip Used Pin Number  \\\n",
       "0                            1.95                1      Chip          No Pin   \n",
       "1                            1.29                1   No Chip          No Pin   \n",
       "2                            0.43                1   No Chip          No Pin   \n",
       "3                            0.36                1      Chip          No Pin   \n",
       "4                            2.22                1      Chip          No Pin   \n",
       "\n",
       "   Online Order      Fraud  \n",
       "0             0  Not Fraud  \n",
       "1             0  Not Fraud  \n",
       "2             1  Not Fraud  \n",
       "3             1  Not Fraud  \n",
       "4             1  Not Fraud  "
      ]
     },
     "execution_count": 2,
     "metadata": {},
     "output_type": "execute_result"
    }
   ],
   "source": [
    "# Load in csv and replace column integers\n",
    "card_df = pd.read_csv(\"main\\Resources\\cleaned_card_data.csv\")\n",
    "card_df['Used Chip'].replace(1, 'Chip', inplace=True)\n",
    "card_df['Used Chip'].replace(0, 'No Chip', inplace=True)\n",
    "card_df['Fraud'].replace(1, 'Fraud', inplace=True)\n",
    "card_df['Fraud'].replace(0, 'Not Fraud', inplace=True)\n",
    "card_df['Used Pin Number'].replace(1, 'Pin', inplace=True)\n",
    "card_df['Used Pin Number'].replace(0, 'No Pin', inplace=True)\n",
    "card_df.head()"
   ]
  },
  {
   "cell_type": "code",
   "execution_count": 3,
   "metadata": {},
   "outputs": [
    {
     "data": {
      "text/html": [
       "<div>\n",
       "<style scoped>\n",
       "    .dataframe tbody tr th:only-of-type {\n",
       "        vertical-align: middle;\n",
       "    }\n",
       "\n",
       "    .dataframe tbody tr th {\n",
       "        vertical-align: top;\n",
       "    }\n",
       "\n",
       "    .dataframe thead th {\n",
       "        text-align: right;\n",
       "    }\n",
       "</style>\n",
       "<table border=\"1\" class=\"dataframe\">\n",
       "  <thead>\n",
       "    <tr style=\"text-align: right;\">\n",
       "      <th></th>\n",
       "      <th>Fraud</th>\n",
       "      <th>Used Chip</th>\n",
       "      <th>Used Pin Number</th>\n",
       "    </tr>\n",
       "  </thead>\n",
       "  <tbody>\n",
       "    <tr>\n",
       "      <th>0</th>\n",
       "      <td>Not Fraud</td>\n",
       "      <td>Chip</td>\n",
       "      <td>No Pin</td>\n",
       "    </tr>\n",
       "    <tr>\n",
       "      <th>1</th>\n",
       "      <td>Not Fraud</td>\n",
       "      <td>No Chip</td>\n",
       "      <td>No Pin</td>\n",
       "    </tr>\n",
       "    <tr>\n",
       "      <th>2</th>\n",
       "      <td>Not Fraud</td>\n",
       "      <td>No Chip</td>\n",
       "      <td>No Pin</td>\n",
       "    </tr>\n",
       "    <tr>\n",
       "      <th>3</th>\n",
       "      <td>Not Fraud</td>\n",
       "      <td>Chip</td>\n",
       "      <td>No Pin</td>\n",
       "    </tr>\n",
       "    <tr>\n",
       "      <th>4</th>\n",
       "      <td>Not Fraud</td>\n",
       "      <td>Chip</td>\n",
       "      <td>No Pin</td>\n",
       "    </tr>\n",
       "  </tbody>\n",
       "</table>\n",
       "</div>"
      ],
      "text/plain": [
       "       Fraud Used Chip Used Pin Number\n",
       "0  Not Fraud      Chip          No Pin\n",
       "1  Not Fraud   No Chip          No Pin\n",
       "2  Not Fraud   No Chip          No Pin\n",
       "3  Not Fraud      Chip          No Pin\n",
       "4  Not Fraud      Chip          No Pin"
      ]
     },
     "execution_count": 3,
     "metadata": {},
     "output_type": "execute_result"
    }
   ],
   "source": [
    "# Create Used Pin Number dataframe\n",
    "no_measure_df = card_df[[\"Fraud\",\"Used Chip\",\"Used Pin Number\"]]\n",
    "no_measure_df.head()"
   ]
  },
  {
   "cell_type": "code",
   "execution_count": 4,
   "metadata": {},
   "outputs": [
    {
     "data": {
      "text/html": [
       "<div>\n",
       "<style scoped>\n",
       "    .dataframe tbody tr th:only-of-type {\n",
       "        vertical-align: middle;\n",
       "    }\n",
       "\n",
       "    .dataframe tbody tr th {\n",
       "        vertical-align: top;\n",
       "    }\n",
       "\n",
       "    .dataframe thead th {\n",
       "        text-align: right;\n",
       "    }\n",
       "</style>\n",
       "<table border=\"1\" class=\"dataframe\">\n",
       "  <thead>\n",
       "    <tr style=\"text-align: right;\">\n",
       "      <th></th>\n",
       "      <th>Fraud</th>\n",
       "      <th>Used Chip</th>\n",
       "      <th>Used Pin Number</th>\n",
       "    </tr>\n",
       "  </thead>\n",
       "  <tbody>\n",
       "    <tr>\n",
       "      <th>1</th>\n",
       "      <td>Not Fraud</td>\n",
       "      <td>No Chip</td>\n",
       "      <td>No Pin</td>\n",
       "    </tr>\n",
       "    <tr>\n",
       "      <th>2</th>\n",
       "      <td>Not Fraud</td>\n",
       "      <td>No Chip</td>\n",
       "      <td>No Pin</td>\n",
       "    </tr>\n",
       "    <tr>\n",
       "      <th>5</th>\n",
       "      <td>Not Fraud</td>\n",
       "      <td>No Chip</td>\n",
       "      <td>No Pin</td>\n",
       "    </tr>\n",
       "    <tr>\n",
       "      <th>6</th>\n",
       "      <td>Not Fraud</td>\n",
       "      <td>No Chip</td>\n",
       "      <td>No Pin</td>\n",
       "    </tr>\n",
       "    <tr>\n",
       "      <th>8</th>\n",
       "      <td>Not Fraud</td>\n",
       "      <td>No Chip</td>\n",
       "      <td>No Pin</td>\n",
       "    </tr>\n",
       "  </tbody>\n",
       "</table>\n",
       "</div>"
      ],
      "text/plain": [
       "       Fraud Used Chip Used Pin Number\n",
       "1  Not Fraud   No Chip          No Pin\n",
       "2  Not Fraud   No Chip          No Pin\n",
       "5  Not Fraud   No Chip          No Pin\n",
       "6  Not Fraud   No Chip          No Pin\n",
       "8  Not Fraud   No Chip          No Pin"
      ]
     },
     "execution_count": 4,
     "metadata": {},
     "output_type": "execute_result"
    }
   ],
   "source": [
    "fraud_df = no_measure_df.loc[(no_measure_df['Used Pin Number'] == \"No Pin\") & (no_measure_df['Used Chip'] == \"No Chip\"), :]\n",
    "fraud_df.head()"
   ]
  },
  {
   "cell_type": "code",
   "execution_count": 5,
   "metadata": {},
   "outputs": [
    {
     "data": {
      "text/plain": [
       "Fraud      Used Chip  Used Pin Number\n",
       "Fraud      No Chip    No Pin              64729\n",
       "Not Fraud  No Chip    No Pin             519317\n",
       "Name: count, dtype: int64"
      ]
     },
     "execution_count": 5,
     "metadata": {},
     "output_type": "execute_result"
    }
   ],
   "source": [
    "grouped_fraud_df = fraud_df.groupby(['Fraud']).value_counts()\n",
    "grouped_fraud_df.head()"
   ]
  },
  {
   "cell_type": "code",
   "execution_count": 7,
   "metadata": {},
   "outputs": [
    {
     "data": {
      "application/vnd.jupyter.widget-view+json": {
       "model_id": "9605a3d0026c4de79889d7d9e7cccee1",
       "version_major": 2,
       "version_minor": 0
      },
      "image/png": "[encoded data removed]",
      "text/html": [
       "\n",
       "            <div style=\"display: inline-block;\">\n",
       "                <div class=\"jupyter-widgets widget-label\" style=\"text-align: center;\">\n",
       "                    Figure 1\n",
       "                </div>\n",
       "                <img src='data:image/png;base64,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' width=500.0/>\n",
       "            </div>\n",
       "        "
      ],
      "text/plain": [
       "Canvas(toolbar=Toolbar(toolitems=[('Home', 'Reset original view', 'home', 'home'), ('Back', 'Back to previous …"
      ]
     },
     "metadata": {},
     "output_type": "display_data"
    }
   ],
   "source": [
    "pin_use_plot = grouped_fraud_df.plot(kind=\"bar\", figsize=(5,5))\n",
    "plt.title(\"Card Present - Mag Stripe Only\")\n",
    "plt.ylabel(\"Transactions\")\n",
    "plt.gca().set_xticklabels(['Pinned Fraud', 'Pinned Not Fraud'])\n",
    "plt.xticks(rotation=0)\n",
    "plt.xlabel(\"Mag Stripe\", rotation=0)\n",
    "plt.gca().set_xticklabels([])\n",
    "plt.show()\n",
    "plt.tight_layout()"
   ]
  }
 ],
 "metadata": {
  "kernelspec": {
   "display_name": "dev",
   "language": "python",
   "name": "python3"
  },
  "language_info": {
   "codemirror_mode": {
    "name": "ipython",
    "version": 3
   },
   "file_extension": ".py",
   "mimetype": "text/x-python",
   "name": "python",
   "nbconvert_exporter": "python",
   "pygments_lexer": "ipython3",
   "version": "3.10.14"
  }
 },
 "nbformat": 4,
 "nbformat_minor": 2
}

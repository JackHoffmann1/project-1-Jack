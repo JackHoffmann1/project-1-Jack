{
 "cells": [
  {
   "cell_type": "code",
   "execution_count": 1,
   "metadata": {},
   "outputs": [],
   "source": [
    "%matplotlib widget\n",
    "\n",
    "# Import dependencies\n",
    "import matplotlib.pyplot as plt\n",
    "import numpy as np\n",
    "import pandas as pd"
   ]
  },
  {
   "cell_type": "code",
   "execution_count": 2,
   "metadata": {},
   "outputs": [
    {
     "data": {
      "text/html": [
       "<div>\n",
       "<style scoped>\n",
       "    .dataframe tbody tr th:only-of-type {\n",
       "        vertical-align: middle;\n",
       "    }\n",
       "\n",
       "    .dataframe tbody tr th {\n",
       "        vertical-align: top;\n",
       "    }\n",
       "\n",
       "    .dataframe thead th {\n",
       "        text-align: right;\n",
       "    }\n",
       "</style>\n",
       "<table border=\"1\" class=\"dataframe\">\n",
       "  <thead>\n",
       "    <tr style=\"text-align: right;\">\n",
       "      <th></th>\n",
       "      <th>Distance From Home</th>\n",
       "      <th>Distance From Last Transaction</th>\n",
       "      <th>Ratio to Median Purchase Price</th>\n",
       "      <th>Repeat Retailer</th>\n",
       "      <th>Used Chip</th>\n",
       "      <th>Used Pin Number</th>\n",
       "      <th>Online Order</th>\n",
       "      <th>Fraud</th>\n",
       "    </tr>\n",
       "  </thead>\n",
       "  <tbody>\n",
       "    <tr>\n",
       "      <th>0</th>\n",
       "      <td>57.88</td>\n",
       "      <td>0.31</td>\n",
       "      <td>1.95</td>\n",
       "      <td>1</td>\n",
       "      <td>Chip</td>\n",
       "      <td>No Pin</td>\n",
       "      <td>0</td>\n",
       "      <td>Not Fraud</td>\n",
       "    </tr>\n",
       "    <tr>\n",
       "      <th>1</th>\n",
       "      <td>10.83</td>\n",
       "      <td>0.18</td>\n",
       "      <td>1.29</td>\n",
       "      <td>1</td>\n",
       "      <td>No Chip</td>\n",
       "      <td>No Pin</td>\n",
       "      <td>0</td>\n",
       "      <td>Not Fraud</td>\n",
       "    </tr>\n",
       "    <tr>\n",
       "      <th>2</th>\n",
       "      <td>5.09</td>\n",
       "      <td>0.81</td>\n",
       "      <td>0.43</td>\n",
       "      <td>1</td>\n",
       "      <td>No Chip</td>\n",
       "      <td>No Pin</td>\n",
       "      <td>1</td>\n",
       "      <td>Not Fraud</td>\n",
       "    </tr>\n",
       "    <tr>\n",
       "      <th>3</th>\n",
       "      <td>2.25</td>\n",
       "      <td>5.60</td>\n",
       "      <td>0.36</td>\n",
       "      <td>1</td>\n",
       "      <td>Chip</td>\n",
       "      <td>No Pin</td>\n",
       "      <td>1</td>\n",
       "      <td>Not Fraud</td>\n",
       "    </tr>\n",
       "    <tr>\n",
       "      <th>4</th>\n",
       "      <td>44.19</td>\n",
       "      <td>0.57</td>\n",
       "      <td>2.22</td>\n",
       "      <td>1</td>\n",
       "      <td>Chip</td>\n",
       "      <td>No Pin</td>\n",
       "      <td>1</td>\n",
       "      <td>Not Fraud</td>\n",
       "    </tr>\n",
       "  </tbody>\n",
       "</table>\n",
       "</div>"
      ],
      "text/plain": [
       "   Distance From Home  Distance From Last Transaction  \\\n",
       "0               57.88                            0.31   \n",
       "1               10.83                            0.18   \n",
       "2                5.09                            0.81   \n",
       "3                2.25                            5.60   \n",
       "4               44.19                            0.57   \n",
       "\n",
       "   Ratio to Median Purchase Price  Repeat Retailer Used Chip Used Pin Number  \\\n",
       "0                            1.95                1      Chip          No Pin   \n",
       "1                            1.29                1   No Chip          No Pin   \n",
       "2                            0.43                1   No Chip          No Pin   \n",
       "3                            0.36                1      Chip          No Pin   \n",
       "4                            2.22                1      Chip          No Pin   \n",
       "\n",
       "   Online Order      Fraud  \n",
       "0             0  Not Fraud  \n",
       "1             0  Not Fraud  \n",
       "2             1  Not Fraud  \n",
       "3             1  Not Fraud  \n",
       "4             1  Not Fraud  "
      ]
     },
     "execution_count": 2,
     "metadata": {},
     "output_type": "execute_result"
    }
   ],
   "source": [
    "# Load in csv and replace column integers\n",
    "card_df = pd.read_csv(\"main\\Resources\\cleaned_card_data.csv\")\n",
    "card_df['Used Chip'].replace(1, 'Chip', inplace=True)\n",
    "card_df['Used Chip'].replace(0, 'No Chip', inplace=True)\n",
    "card_df['Fraud'].replace(1, 'Fraud', inplace=True)\n",
    "card_df['Fraud'].replace(0, 'Not Fraud', inplace=True)\n",
    "card_df['Used Pin Number'].replace(1, 'Pin', inplace=True)\n",
    "card_df['Used Pin Number'].replace(0, 'No Pin', inplace=True)\n",
    "card_df.head()"
   ]
  },
  {
   "cell_type": "code",
   "execution_count": 3,
   "metadata": {},
   "outputs": [
    {
     "data": {
      "text/html": [
       "<div>\n",
       "<style scoped>\n",
       "    .dataframe tbody tr th:only-of-type {\n",
       "        vertical-align: middle;\n",
       "    }\n",
       "\n",
       "    .dataframe tbody tr th {\n",
       "        vertical-align: top;\n",
       "    }\n",
       "\n",
       "    .dataframe thead th {\n",
       "        text-align: right;\n",
       "    }\n",
       "</style>\n",
       "<table border=\"1\" class=\"dataframe\">\n",
       "  <thead>\n",
       "    <tr style=\"text-align: right;\">\n",
       "      <th></th>\n",
       "      <th>Fraud</th>\n",
       "      <th>Used Chip</th>\n",
       "      <th>Used Pin Number</th>\n",
       "    </tr>\n",
       "  </thead>\n",
       "  <tbody>\n",
       "    <tr>\n",
       "      <th>0</th>\n",
       "      <td>Not Fraud</td>\n",
       "      <td>Chip</td>\n",
       "      <td>No Pin</td>\n",
       "    </tr>\n",
       "    <tr>\n",
       "      <th>1</th>\n",
       "      <td>Not Fraud</td>\n",
       "      <td>No Chip</td>\n",
       "      <td>No Pin</td>\n",
       "    </tr>\n",
       "    <tr>\n",
       "      <th>2</th>\n",
       "      <td>Not Fraud</td>\n",
       "      <td>No Chip</td>\n",
       "      <td>No Pin</td>\n",
       "    </tr>\n",
       "    <tr>\n",
       "      <th>3</th>\n",
       "      <td>Not Fraud</td>\n",
       "      <td>Chip</td>\n",
       "      <td>No Pin</td>\n",
       "    </tr>\n",
       "    <tr>\n",
       "      <th>4</th>\n",
       "      <td>Not Fraud</td>\n",
       "      <td>Chip</td>\n",
       "      <td>No Pin</td>\n",
       "    </tr>\n",
       "  </tbody>\n",
       "</table>\n",
       "</div>"
      ],
      "text/plain": [
       "       Fraud Used Chip Used Pin Number\n",
       "0  Not Fraud      Chip          No Pin\n",
       "1  Not Fraud   No Chip          No Pin\n",
       "2  Not Fraud   No Chip          No Pin\n",
       "3  Not Fraud      Chip          No Pin\n",
       "4  Not Fraud      Chip          No Pin"
      ]
     },
     "execution_count": 3,
     "metadata": {},
     "output_type": "execute_result"
    }
   ],
   "source": [
    "# Create Used Pin Number dataframe\n",
    "no_measure_df = card_df[[\"Fraud\",\"Used Chip\",\"Used Pin Number\"]]\n",
    "no_measure_df.head()"
   ]
  },
  {
   "cell_type": "code",
   "execution_count": 4,
   "metadata": {},
   "outputs": [
    {
     "data": {
      "text/html": [
       "<div>\n",
       "<style scoped>\n",
       "    .dataframe tbody tr th:only-of-type {\n",
       "        vertical-align: middle;\n",
       "    }\n",
       "\n",
       "    .dataframe tbody tr th {\n",
       "        vertical-align: top;\n",
       "    }\n",
       "\n",
       "    .dataframe thead th {\n",
       "        text-align: right;\n",
       "    }\n",
       "</style>\n",
       "<table border=\"1\" class=\"dataframe\">\n",
       "  <thead>\n",
       "    <tr style=\"text-align: right;\">\n",
       "      <th></th>\n",
       "      <th>Fraud</th>\n",
       "      <th>Used Chip</th>\n",
       "      <th>Used Pin Number</th>\n",
       "    </tr>\n",
       "  </thead>\n",
       "  <tbody>\n",
       "    <tr>\n",
       "      <th>1</th>\n",
       "      <td>Not Fraud</td>\n",
       "      <td>No Chip</td>\n",
       "      <td>No Pin</td>\n",
       "    </tr>\n",
       "    <tr>\n",
       "      <th>2</th>\n",
       "      <td>Not Fraud</td>\n",
       "      <td>No Chip</td>\n",
       "      <td>No Pin</td>\n",
       "    </tr>\n",
       "    <tr>\n",
       "      <th>5</th>\n",
       "      <td>Not Fraud</td>\n",
       "      <td>No Chip</td>\n",
       "      <td>No Pin</td>\n",
       "    </tr>\n",
       "    <tr>\n",
       "      <th>6</th>\n",
       "      <td>Not Fraud</td>\n",
       "      <td>No Chip</td>\n",
       "      <td>No Pin</td>\n",
       "    </tr>\n",
       "    <tr>\n",
       "      <th>8</th>\n",
       "      <td>Not Fraud</td>\n",
       "      <td>No Chip</td>\n",
       "      <td>No Pin</td>\n",
       "    </tr>\n",
       "  </tbody>\n",
       "</table>\n",
       "</div>"
      ],
      "text/plain": [
       "       Fraud Used Chip Used Pin Number\n",
       "1  Not Fraud   No Chip          No Pin\n",
       "2  Not Fraud   No Chip          No Pin\n",
       "5  Not Fraud   No Chip          No Pin\n",
       "6  Not Fraud   No Chip          No Pin\n",
       "8  Not Fraud   No Chip          No Pin"
      ]
     },
     "execution_count": 4,
     "metadata": {},
     "output_type": "execute_result"
    }
   ],
   "source": [
    "fraud_df = no_measure_df.loc[(no_measure_df['Used Pin Number'] == \"No Pin\") & (no_measure_df['Used Chip'] == \"No Chip\"), :]\n",
    "fraud_df.head()"
   ]
  },
  {
   "cell_type": "code",
   "execution_count": 5,
   "metadata": {},
   "outputs": [
    {
     "data": {
      "text/plain": [
       "Fraud      Used Chip  Used Pin Number\n",
       "Fraud      No Chip    No Pin              64729\n",
       "Not Fraud  No Chip    No Pin             519317\n",
       "Name: count, dtype: int64"
      ]
     },
     "execution_count": 5,
     "metadata": {},
     "output_type": "execute_result"
    }
   ],
   "source": [
    "grouped_fraud_df = fraud_df.groupby(['Fraud']).value_counts()\n",
    "grouped_fraud_df.head()"
   ]
  },
  {
   "cell_type": "code",
   "execution_count": 7,
   "metadata": {},
   "outputs": [
    {
     "data": {
      "application/vnd.jupyter.widget-view+json": {
       "model_id": "ebb6d51943b641ecaa755c5698b2cdf1",
       "version_major": 2,
       "version_minor": 0
      },
      "image/png": "[encoded data removed]",
      "text/html": [
       "\n",
       "            <div style=\"display: inline-block;\">\n",
       "                <div class=\"jupyter-widgets widget-label\" style=\"text-align: center;\">\n",
       "                    Figure 1\n",
       "                </div>\n",
       "                <img src='data:image/png;base64,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' width=500.0/>\n",
       "            </div>\n",
       "        "
      ],
      "text/plain": [
       "Canvas(toolbar=Toolbar(toolitems=[('Home', 'Reset original view', 'home', 'home'), ('Back', 'Back to previous …"
      ]
     },
     "metadata": {},
     "output_type": "display_data"
    }
   ],
   "source": [
    "pin_use_plot = grouped_fraud_df.plot(kind=\"bar\", figsize=(5,5))\n",
    "plt.title(\"Card Present - Mag Stripe Only\")\n",
    "plt.ylabel(\"Transactions\")\n",
    "plt.gca().set_xticklabels(['Pinned Fraud', 'Pinned Not Fraud'])\n",
    "plt.xticks(rotation=0)\n",
    "plt.xlabel(\"Mag Stripe\", rotation=0)\n",
    "plt.show()\n",
    "plt.tight_layout()"
   ]
  }
 ],
 "metadata": {
  "kernelspec": {
   "display_name": "dev",
   "language": "python",
   "name": "python3"
  },
  "language_info": {
   "codemirror_mode": {
    "name": "ipython",
    "version": 3
   },
   "file_extension": ".py",
   "mimetype": "text/x-python",
   "name": "python",
   "nbconvert_exporter": "python",
   "pygments_lexer": "ipython3",
   "version": "3.10.14"
  }
 },
 "nbformat": 4,
 "nbformat_minor": 2
}
